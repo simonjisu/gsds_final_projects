{
 "cells": [
  {
   "cell_type": "code",
   "execution_count": 2,
   "metadata": {},
   "outputs": [],
   "source": [
    "import numpy as np\n",
    "import pandas as pd\n",
    "import torch\n",
    "from pathlib import Path\n",
    "from collections import defaultdict, Counter\n",
    "from itertools import combinations\n",
    "from tqdm.notebook import tqdm_notebook\n",
    "import pickle\n",
    "import seaborn as sns\n",
    "import matplotlib.pyplot as plt\n",
    "import re"
   ]
  },
  {
   "cell_type": "code",
   "execution_count": 3,
   "metadata": {},
   "outputs": [],
   "source": [
    "p_data = Path(\"/home/simonjisu/code/data/kaggle_movie/\")"
   ]
  },
  {
   "cell_type": "code",
   "execution_count": 34,
   "metadata": {
    "scrolled": false
   },
   "outputs": [
    {
     "data": {
      "text/plain": [
       "Index(['movieId', 'imdbId', 'title', 'release_cate', 'genres', 'runtime',\n",
       "       'production_countries', 'spoken_languages', 'status', 'adult',\n",
       "       'popularity', 'vote_average', 'vote_count', 'revenue', 'overview'],\n",
       "      dtype='object')"
      ]
     },
     "execution_count": 34,
     "metadata": {},
     "output_type": "execute_result"
    }
   ],
   "source": [
    "df_movie_meta = pd.read_csv(p_data / \"preprocessed_movie_meta.tsv\", sep=\"\\t\")\n",
    "df_movie_meta.columns"
   ]
  },
  {
   "cell_type": "code",
   "execution_count": 94,
   "metadata": {},
   "outputs": [],
   "source": [
    "df_movie_meta.drop(index=df_movie_meta.loc[df_movie_meta.duplicated(\"title\") & df_movie_meta.duplicated(\"movieId\"), :].index, inplace=True)"
   ]
  },
  {
   "cell_type": "code",
   "execution_count": 99,
   "metadata": {},
   "outputs": [],
   "source": [
    "df_movie_meta = df_movie_meta.drop_duplicates(\"imdbId\")"
   ]
  },
  {
   "cell_type": "code",
   "execution_count": 104,
   "metadata": {},
   "outputs": [],
   "source": [
    "df_small = pd.read_csv(p_data / \"ratings_small.csv\")"
   ]
  },
  {
   "cell_type": "code",
   "execution_count": 105,
   "metadata": {},
   "outputs": [
    {
     "name": "stdout",
     "output_type": "stream",
     "text": [
      "count    100004.000000\n",
      "mean          3.543608\n",
      "std           1.058064\n",
      "min           0.500000\n",
      "25%           3.000000\n",
      "50%           4.000000\n",
      "75%           4.000000\n",
      "max           5.000000\n",
      "Name: rating, dtype: float64\n"
     ]
    },
    {
     "data": {
      "image/png": "[encoded data removed]",
      "text/plain": [
       "<Figure size 432x288 with 1 Axes>"
      ]
     },
     "metadata": {
      "needs_background": "light"
     },
     "output_type": "display_data"
    }
   ],
   "source": [
    "# 사람들이 얼마나 후하게 점수를 주는지 rating을 한번 봤음 \n",
    "sns.countplot(df_small[\"rating\"])\n",
    "print(df_small[\"rating\"].describe())"
   ]
  },
  {
   "cell_type": "code",
   "execution_count": 106,
   "metadata": {},
   "outputs": [],
   "source": [
    "# 카테고리를 나눔\n",
    "def rating_cate(x):\n",
    "    if 0.0 <= x < 2.5: return \"low_rater\"\n",
    "    elif 2.0 <= x < 3.5: return \"small_rater\"\n",
    "    elif 3.5 <= x < 4.0: return \"middle_rater\"\n",
    "    elif 4.0 <= x < 5.0: return \"big_rater\"\n",
    "    else: return \"none\"\n"
   ]
  },
  {
   "cell_type": "code",
   "execution_count": 107,
   "metadata": {},
   "outputs": [],
   "source": [
    "df_user = pd.DataFrame(df_small.groupby([\"userId\"])[\"rating\"].mean().apply(rating_cate))"
   ]
  },
  {
   "cell_type": "code",
   "execution_count": 108,
   "metadata": {},
   "outputs": [
    {
     "data": {
      "text/plain": [
       "<matplotlib.axes._subplots.AxesSubplot at 0x7fc9c08912b0>"
      ]
     },
     "execution_count": 108,
     "metadata": {},
     "output_type": "execute_result"
    },
    {
     "data": {
      "image/png": "[encoded data removed]",
      "text/plain": [
       "<Figure size 432x288 with 1 Axes>"
      ]
     },
     "metadata": {
      "needs_background": "light"
     },
     "output_type": "display_data"
    }
   ],
   "source": [
    "# 대부분 점수를 중박으로 주는 편\n",
    "sns.countplot(x=\"rating\", data=df_user)"
   ]
  },
  {
   "cell_type": "code",
   "execution_count": 225,
   "metadata": {},
   "outputs": [],
   "source": [
    "# 영화번호 : 장르 사전\n",
    "temp = df_movie_meta.loc[:, (\"movieId\", \"genres\")].set_index(\"movieId\").copy()\n",
    "temp.loc[:, \"genres\"] = temp.loc[:, \"genres\"].str.split(\"|\")\n",
    "temp_genres = temp.to_dict()[\"genres\"]\n",
    "movie2genres = defaultdict()\n",
    "genres_unique = set()\n",
    "for k, v in temp_genres.items():\n",
    "    if not isinstance(v, list):\n",
    "        movie2genres[k] = [\"UNK\"]\n",
    "        genres_unique.add(\"UNK\")\n",
    "    else:\n",
    "        movie2genres[k] = v\n",
    "        for movie in v:\n",
    "            genres_unique.add(movie)"
   ]
  },
  {
   "cell_type": "code",
   "execution_count": 216,
   "metadata": {},
   "outputs": [],
   "source": [
    "flatten = lambda li: [x for inli in li for x in inli]\n",
    "def get_genres(mids, movie2genres):\n",
    "    for i in mids:\n",
    "        if movie2genres.get(i):\n",
    "            yield movie2genres.get(i)\n",
    "        else:\n",
    "            yield [\"UNK\"]"
   ]
  },
  {
   "cell_type": "code",
   "execution_count": 217,
   "metadata": {},
   "outputs": [],
   "source": [
    "# top 3만 뽑아보자 \n",
    "user_fav_genres = defaultdict()\n",
    "for uid, mids in df_small.groupby([\"userId\"])[\"movieId\"].apply(list).reset_index().values:\n",
    "    user_fav_genres[uid] = Counter(flatten(list(get_genres(mids, movie2genres)))).most_common(3)"
   ]
  },
  {
   "cell_type": "code",
   "execution_count": 112,
   "metadata": {},
   "outputs": [],
   "source": [
    "temp = pd.DataFrame(user_fav_genres).T\n",
    "cols = {i: v for i, v in enumerate([\"fv1\", \"fv2\", \"fv3\"])}\n",
    "cols[\"index\"] = \"userId\"\n",
    "temp = temp.reset_index().rename(columns=cols)"
   ]
  },
  {
   "cell_type": "code",
   "execution_count": 113,
   "metadata": {
    "scrolled": true
   },
   "outputs": [],
   "source": [
    "df_user_final = pd.merge(df_user, temp, on=\"userId\")"
   ]
  },
  {
   "cell_type": "code",
   "execution_count": 114,
   "metadata": {},
   "outputs": [],
   "source": [
    "df_user_final.to_csv(p_data / \"df_user.tsv\", sep=\"\\t\")"
   ]
  },
  {
   "cell_type": "code",
   "execution_count": 115,
   "metadata": {},
   "outputs": [
    {
     "data": {
      "text/plain": [
       "movieId          0\n",
       "title            0\n",
       "genres          30\n",
       "release_cate     1\n",
       "popularity       0\n",
       "vote_average     0\n",
       "revenue          0\n",
       "vote_count       0\n",
       "dtype: int64"
      ]
     },
     "execution_count": 115,
     "metadata": {},
     "output_type": "execute_result"
    }
   ],
   "source": [
    "cols = [\"movieId\", \"title\", \"genres\", \"release_cate\", \"popularity\", \"vote_average\", \"revenue\", \"vote_count\"]\n",
    "df_meta_to_use = df_movie_meta.loc[:, cols]\n",
    "df_meta_to_use.isna().sum(0)"
   ]
  },
  {
   "cell_type": "code",
   "execution_count": 116,
   "metadata": {},
   "outputs": [
    {
     "data": {
      "text/html": [
       "<div>\n",
       "<style scoped>\n",
       "    .dataframe tbody tr th:only-of-type {\n",
       "        vertical-align: middle;\n",
       "    }\n",
       "\n",
       "    .dataframe tbody tr th {\n",
       "        vertical-align: top;\n",
       "    }\n",
       "\n",
       "    .dataframe thead th {\n",
       "        text-align: right;\n",
       "    }\n",
       "</style>\n",
       "<table border=\"1\" class=\"dataframe\">\n",
       "  <thead>\n",
       "    <tr style=\"text-align: right;\">\n",
       "      <th></th>\n",
       "      <th>movieId</th>\n",
       "      <th>imdbId</th>\n",
       "      <th>title</th>\n",
       "      <th>release_cate</th>\n",
       "      <th>genres</th>\n",
       "      <th>runtime</th>\n",
       "      <th>production_countries</th>\n",
       "      <th>spoken_languages</th>\n",
       "      <th>status</th>\n",
       "      <th>adult</th>\n",
       "      <th>popularity</th>\n",
       "      <th>vote_average</th>\n",
       "      <th>vote_count</th>\n",
       "      <th>revenue</th>\n",
       "      <th>overview</th>\n",
       "    </tr>\n",
       "  </thead>\n",
       "  <tbody>\n",
       "    <tr>\n",
       "      <th>7668</th>\n",
       "      <td>77658</td>\n",
       "      <td>81846</td>\n",
       "      <td>Cosmos</td>\n",
       "      <td>NaN</td>\n",
       "      <td>NaN</td>\n",
       "      <td>60.0</td>\n",
       "      <td>NaN</td>\n",
       "      <td>NaN</td>\n",
       "      <td>Released</td>\n",
       "      <td>False</td>\n",
       "      <td>0.282584</td>\n",
       "      <td>9.1</td>\n",
       "      <td>41</td>\n",
       "      <td>0</td>\n",
       "      <td>\"Astronomer Dr. Carl Sagan is host and narrato...</td>\n",
       "    </tr>\n",
       "  </tbody>\n",
       "</table>\n",
       "</div>"
      ],
      "text/plain": [
       "      movieId  imdbId   title release_cate genres  runtime  \\\n",
       "7668    77658   81846  Cosmos          NaN    NaN     60.0   \n",
       "\n",
       "     production_countries spoken_languages    status  adult  popularity  \\\n",
       "7668                  NaN              NaN  Released  False    0.282584   \n",
       "\n",
       "      vote_average  vote_count  revenue  \\\n",
       "7668           9.1          41        0   \n",
       "\n",
       "                                               overview  \n",
       "7668  \"Astronomer Dr. Carl Sagan is host and narrato...  "
      ]
     },
     "execution_count": 116,
     "metadata": {},
     "output_type": "execute_result"
    }
   ],
   "source": [
    "df_movie_meta.loc[df_movie_meta.movieId==77658, :]"
   ]
  },
  {
   "cell_type": "code",
   "execution_count": 117,
   "metadata": {},
   "outputs": [],
   "source": [
    "# 칼 세이건의 코스모스라서 그냥 넣어줌\n",
    "df_meta_to_use.loc[df_meta_to_use.release_cate.isna(), \"release_cate\"] = \"1976-1995\"\n",
    "# 장르 없는건 \"UNK\" 로 넣어줌\n",
    "df_meta_to_use.loc[df_meta_to_use.genres.isna(), \"genres\"] = \"UNK\""
   ]
  },
  {
   "cell_type": "code",
   "execution_count": 118,
   "metadata": {},
   "outputs": [],
   "source": [
    "df_meta_to_use.to_csv(p_data / \"df_meta.tsv\", sep=\"\\t\", index=False)"
   ]
  },
  {
   "cell_type": "code",
   "execution_count": 119,
   "metadata": {},
   "outputs": [
    {
     "data": {
      "text/html": [
       "<div>\n",
       "<style scoped>\n",
       "    .dataframe tbody tr th:only-of-type {\n",
       "        vertical-align: middle;\n",
       "    }\n",
       "\n",
       "    .dataframe tbody tr th {\n",
       "        vertical-align: top;\n",
       "    }\n",
       "\n",
       "    .dataframe thead th {\n",
       "        text-align: right;\n",
       "    }\n",
       "</style>\n",
       "<table border=\"1\" class=\"dataframe\">\n",
       "  <thead>\n",
       "    <tr style=\"text-align: right;\">\n",
       "      <th></th>\n",
       "      <th>movieId</th>\n",
       "      <th>title</th>\n",
       "      <th>genres</th>\n",
       "      <th>release_cate</th>\n",
       "      <th>popularity</th>\n",
       "      <th>vote_average</th>\n",
       "      <th>revenue</th>\n",
       "      <th>vote_count</th>\n",
       "    </tr>\n",
       "  </thead>\n",
       "  <tbody>\n",
       "    <tr>\n",
       "      <th>0</th>\n",
       "      <td>1</td>\n",
       "      <td>Toy Story</td>\n",
       "      <td>Animation|Comedy|Family</td>\n",
       "      <td>1976-1995</td>\n",
       "      <td>21.946943</td>\n",
       "      <td>7.7</td>\n",
       "      <td>373554033</td>\n",
       "      <td>5415</td>\n",
       "    </tr>\n",
       "    <tr>\n",
       "      <th>1</th>\n",
       "      <td>2</td>\n",
       "      <td>Jumanji</td>\n",
       "      <td>Adventure|Fantasy|Family</td>\n",
       "      <td>1976-1995</td>\n",
       "      <td>17.015539</td>\n",
       "      <td>6.9</td>\n",
       "      <td>262797249</td>\n",
       "      <td>2413</td>\n",
       "    </tr>\n",
       "    <tr>\n",
       "      <th>2</th>\n",
       "      <td>3</td>\n",
       "      <td>Grumpier Old Men</td>\n",
       "      <td>Romance|Comedy</td>\n",
       "      <td>1976-1995</td>\n",
       "      <td>11.712900</td>\n",
       "      <td>6.5</td>\n",
       "      <td>0</td>\n",
       "      <td>92</td>\n",
       "    </tr>\n",
       "    <tr>\n",
       "      <th>3</th>\n",
       "      <td>4</td>\n",
       "      <td>Waiting to Exhale</td>\n",
       "      <td>Comedy|Drama|Romance</td>\n",
       "      <td>1976-1995</td>\n",
       "      <td>3.859495</td>\n",
       "      <td>6.1</td>\n",
       "      <td>81452156</td>\n",
       "      <td>34</td>\n",
       "    </tr>\n",
       "    <tr>\n",
       "      <th>4</th>\n",
       "      <td>5</td>\n",
       "      <td>Father of the Bride Part II</td>\n",
       "      <td>Comedy</td>\n",
       "      <td>1976-1995</td>\n",
       "      <td>8.387519</td>\n",
       "      <td>5.7</td>\n",
       "      <td>76578911</td>\n",
       "      <td>173</td>\n",
       "    </tr>\n",
       "  </tbody>\n",
       "</table>\n",
       "</div>"
      ],
      "text/plain": [
       "   movieId                        title                    genres  \\\n",
       "0        1                    Toy Story   Animation|Comedy|Family   \n",
       "1        2                      Jumanji  Adventure|Fantasy|Family   \n",
       "2        3             Grumpier Old Men            Romance|Comedy   \n",
       "3        4            Waiting to Exhale      Comedy|Drama|Romance   \n",
       "4        5  Father of the Bride Part II                    Comedy   \n",
       "\n",
       "  release_cate  popularity  vote_average    revenue  vote_count  \n",
       "0    1976-1995   21.946943           7.7  373554033        5415  \n",
       "1    1976-1995   17.015539           6.9  262797249        2413  \n",
       "2    1976-1995   11.712900           6.5          0          92  \n",
       "3    1976-1995    3.859495           6.1   81452156          34  \n",
       "4    1976-1995    8.387519           5.7   76578911         173  "
      ]
     },
     "execution_count": 119,
     "metadata": {},
     "output_type": "execute_result"
    }
   ],
   "source": [
    "df_meta_to_use.head()"
   ]
  },
  {
   "cell_type": "code",
   "execution_count": 120,
   "metadata": {},
   "outputs": [],
   "source": [
    "# similarity\n",
    "# genres one-hot vector\n",
    "df_g = df_meta_to_use.genres.str.split(\"|\")\n",
    "genres = set()\n",
    "for x in df_g:\n",
    "    for y in x:\n",
    "        genres.add(y)\n",
    "s_genres = sorted(list(genres))\n",
    "s_genres.remove(\"UNK\")\n",
    "g2idx = defaultdict()\n",
    "g2idx[\"UNK\"] = 0\n",
    "for i, v in enumerate(s_genres, 1):\n",
    "    g2idx[v] = i\n",
    "idx2g = {i: g for g, i in g2idx.items()}\n",
    "gg = df_g.apply(lambda x: [g2idx.get(i) for i in x])\n",
    "v = np.zeros((len(gg), len(g2idx)))\n",
    "for i, g in enumerate(gg):\n",
    "    for j in g:\n",
    "        v[i, j] = 1\n",
    "b = np.hstack([df_meta_to_use[\"movieId\"].values.reshape(-1, 1), v])"
   ]
  },
  {
   "cell_type": "code",
   "execution_count": 121,
   "metadata": {},
   "outputs": [],
   "source": [
    "pd.DataFrame(b, columns=[\"movieId\"] + list(g2idx.keys()))\\\n",
    "    .astype(int).to_csv(p_data / \"df_movie_genres.csv\", index=False)"
   ]
  },
  {
   "cell_type": "code",
   "execution_count": 268,
   "metadata": {},
   "outputs": [],
   "source": [
    "# 전체 user 각 장르별 본 영화 횟수\n",
    "user_fav_genres = defaultdict()\n",
    "for uid, mids in df_small.groupby([\"userId\"])[\"movieId\"].apply(list).reset_index().values:\n",
    "    user_fav_genres[uid] = Counter(flatten(list(get_genres(mids, movie2genres))))\n",
    "\n",
    "# similarity 구하기\n",
    "df_user_genres_counts = pd.DataFrame(user_fav_genres).T.fillna(0.0).astype(np.int).reset_index()\n",
    "df_user_genres_counts.rename(columns={\"index\": \"userId\"}, inplace=True)\n",
    "df_user_genres_counts.to_csv(p_data / \"df_user_genres_counts.tsv\", sep=\"\\t\", index=False)"
   ]
  },
  {
   "cell_type": "code",
   "execution_count": 275,
   "metadata": {},
   "outputs": [],
   "source": [
    "temp = pd.DataFrame(df_small.groupby([\"userId\"])[\"rating\"].mean()).reset_index()\n",
    "df_users_genres_rating = pd.merge(temp, df_user_genres_counts, on=\"userId\").set_index(\"userId\")"
   ]
  },
  {
   "cell_type": "code",
   "execution_count": 276,
   "metadata": {},
   "outputs": [],
   "source": [
    "user_cos = cosine_similarity(StandardScaler().fit_transform(df_user_genres_counts.values))\n",
    "user_sim = pd.DataFrame(user_cos, columns=df_user_genres_counts.index, index=df_user_genres_counts.index)"
   ]
  },
  {
   "cell_type": "code",
   "execution_count": 277,
   "metadata": {},
   "outputs": [
    {
     "data": {
      "image/png": "[encoded data removed]",
      "text/plain": [
       "<Figure size 864x864 with 2 Axes>"
      ]
     },
     "metadata": {
      "needs_background": "light"
     },
     "output_type": "display_data"
    }
   ],
   "source": [
    "fig, ax = plt.subplots(1, 1, figsize=(12, 12))\n",
    "sns.heatmap(user_sim.iloc[:50, :50], ax=ax)\n",
    "ax.set_title(\"User Similarity Matrix\", fontsize=12)\n",
    "plt.show()"
   ]
  },
  {
   "cell_type": "code",
   "execution_count": null,
   "metadata": {},
   "outputs": [],
   "source": []
  },
  {
   "cell_type": "code",
   "execution_count": 278,
   "metadata": {},
   "outputs": [
    {
     "data": {
      "application/vnd.jupyter.widget-view+json": {
       "model_id": "f011f27b2a634e858b3525289449c90d",
       "version_major": 2,
       "version_minor": 0
      },
      "text/plain": [
       "HBox(children=(FloatProgress(value=0.0, max=671.0), HTML(value='')))"
      ]
     },
     "metadata": {},
     "output_type": "display_data"
    },
    {
     "name": "stdout",
     "output_type": "stream",
     "text": [
      "\n"
     ]
    }
   ],
   "source": [
    "selected_users = user_sim.index\n",
    "for i, mid in tqdm_notebook(enumerate(selected_users), total=len(selected_users)):\n",
    "    x = user_sim[mid]\n",
    "    from_idx = np.argmax(x.index == mid)\n",
    "    idx = x.index[(from_idx+1):]\n",
    "    values = x.values[(from_idx+1):]\n",
    "    if i == 0:\n",
    "        temp = np.vstack([np.ones(len(idx)).astype(np.int) * np.array([mid]), idx, values]).T\n",
    "    else:\n",
    "        new = np.vstack([np.ones(len(idx)).astype(np.int) * np.array([mid]), idx, values]).T\n",
    "        temp = np.vstack([temp, new])"
   ]
  },
  {
   "cell_type": "code",
   "execution_count": 280,
   "metadata": {},
   "outputs": [],
   "source": [
    "df_user_sim = pd.DataFrame(temp, columns=[\"user1\", \"user2\", \"similarity\"])\n",
    "df_user_sim[\"user1\"] = df_user_sim[\"user1\"].astype(int)\n",
    "df_user_sim[\"user2\"] = df_user_sim[\"user2\"].astype(int)"
   ]
  },
  {
   "cell_type": "code",
   "execution_count": 282,
   "metadata": {},
   "outputs": [],
   "source": [
    "df_user_sim.to_csv(p_data / \"df_user_sim.csv\", index=False)"
   ]
  },
  {
   "cell_type": "code",
   "execution_count": 123,
   "metadata": {},
   "outputs": [],
   "source": [
    "# others\n",
    "a = df_meta_to_use.loc[:, (\"movieId\", \"release_cate\", \"popularity\", \"vote_average\", \"vote_count\")]\n",
    "\n",
    "release_dict = {'UNK': 0, '1900-1975':1,'1976-1995':2, '1996-2003':3, '2004-2009':4, '2010-':5}\n",
    "\n",
    "a.release_cate = a.release_cate.apply(release_dict.get)\n",
    "a.to_csv(p_data / \"df_movie_others.csv\", index=False)"
   ]
  },
  {
   "cell_type": "code",
   "execution_count": 124,
   "metadata": {},
   "outputs": [
    {
     "data": {
      "text/html": [
       "<div>\n",
       "<style scoped>\n",
       "    .dataframe tbody tr th:only-of-type {\n",
       "        vertical-align: middle;\n",
       "    }\n",
       "\n",
       "    .dataframe tbody tr th {\n",
       "        vertical-align: top;\n",
       "    }\n",
       "\n",
       "    .dataframe thead th {\n",
       "        text-align: right;\n",
       "    }\n",
       "</style>\n",
       "<table border=\"1\" class=\"dataframe\">\n",
       "  <thead>\n",
       "    <tr style=\"text-align: right;\">\n",
       "      <th></th>\n",
       "      <th>0</th>\n",
       "      <th>1</th>\n",
       "      <th>2</th>\n",
       "      <th>3</th>\n",
       "      <th>4</th>\n",
       "      <th>5</th>\n",
       "      <th>6</th>\n",
       "      <th>7</th>\n",
       "      <th>8</th>\n",
       "      <th>9</th>\n",
       "      <th>...</th>\n",
       "      <th>7513</th>\n",
       "      <th>7514</th>\n",
       "      <th>7515</th>\n",
       "      <th>7516</th>\n",
       "      <th>7517</th>\n",
       "      <th>7518</th>\n",
       "      <th>7519</th>\n",
       "      <th>7520</th>\n",
       "      <th>7521</th>\n",
       "      <th>7522</th>\n",
       "    </tr>\n",
       "  </thead>\n",
       "  <tbody>\n",
       "    <tr>\n",
       "      <th>0</th>\n",
       "      <td>1.000000</td>\n",
       "      <td>0.607718</td>\n",
       "      <td>0.117785</td>\n",
       "      <td>-0.247313</td>\n",
       "      <td>0.060008</td>\n",
       "      <td>0.333405</td>\n",
       "      <td>-0.048603</td>\n",
       "      <td>-0.134049</td>\n",
       "      <td>-0.214334</td>\n",
       "      <td>0.348403</td>\n",
       "      <td>...</td>\n",
       "      <td>-0.156958</td>\n",
       "      <td>-0.151103</td>\n",
       "      <td>-0.170856</td>\n",
       "      <td>-0.038998</td>\n",
       "      <td>-0.110694</td>\n",
       "      <td>-0.185830</td>\n",
       "      <td>0.134936</td>\n",
       "      <td>-0.190992</td>\n",
       "      <td>0.152416</td>\n",
       "      <td>-0.074003</td>\n",
       "    </tr>\n",
       "    <tr>\n",
       "      <th>1</th>\n",
       "      <td>0.607718</td>\n",
       "      <td>1.000000</td>\n",
       "      <td>0.114584</td>\n",
       "      <td>-0.339294</td>\n",
       "      <td>0.001005</td>\n",
       "      <td>0.360165</td>\n",
       "      <td>-0.087299</td>\n",
       "      <td>0.063736</td>\n",
       "      <td>0.020198</td>\n",
       "      <td>0.593647</td>\n",
       "      <td>...</td>\n",
       "      <td>-0.280270</td>\n",
       "      <td>-0.286369</td>\n",
       "      <td>-0.240726</td>\n",
       "      <td>-0.059517</td>\n",
       "      <td>-0.167653</td>\n",
       "      <td>-0.241480</td>\n",
       "      <td>0.253518</td>\n",
       "      <td>-0.261755</td>\n",
       "      <td>0.136113</td>\n",
       "      <td>-0.131514</td>\n",
       "    </tr>\n",
       "    <tr>\n",
       "      <th>2</th>\n",
       "      <td>0.117785</td>\n",
       "      <td>0.114584</td>\n",
       "      <td>1.000000</td>\n",
       "      <td>0.488342</td>\n",
       "      <td>0.613387</td>\n",
       "      <td>0.056801</td>\n",
       "      <td>0.827585</td>\n",
       "      <td>-0.166444</td>\n",
       "      <td>0.014507</td>\n",
       "      <td>0.222916</td>\n",
       "      <td>...</td>\n",
       "      <td>-0.170198</td>\n",
       "      <td>-0.366902</td>\n",
       "      <td>-0.480018</td>\n",
       "      <td>-0.203460</td>\n",
       "      <td>-0.312837</td>\n",
       "      <td>-0.410418</td>\n",
       "      <td>-0.134315</td>\n",
       "      <td>-0.478862</td>\n",
       "      <td>-0.039747</td>\n",
       "      <td>-0.224076</td>\n",
       "    </tr>\n",
       "    <tr>\n",
       "      <th>3</th>\n",
       "      <td>-0.247313</td>\n",
       "      <td>-0.339294</td>\n",
       "      <td>0.488342</td>\n",
       "      <td>1.000000</td>\n",
       "      <td>0.452102</td>\n",
       "      <td>-0.330532</td>\n",
       "      <td>0.814349</td>\n",
       "      <td>0.351531</td>\n",
       "      <td>0.225500</td>\n",
       "      <td>-0.322633</td>\n",
       "      <td>...</td>\n",
       "      <td>-0.133322</td>\n",
       "      <td>-0.333869</td>\n",
       "      <td>-0.451594</td>\n",
       "      <td>-0.532823</td>\n",
       "      <td>-0.329638</td>\n",
       "      <td>-0.375688</td>\n",
       "      <td>-0.643644</td>\n",
       "      <td>-0.374483</td>\n",
       "      <td>-0.223342</td>\n",
       "      <td>-0.219899</td>\n",
       "    </tr>\n",
       "    <tr>\n",
       "      <th>4</th>\n",
       "      <td>0.060008</td>\n",
       "      <td>0.001005</td>\n",
       "      <td>0.613387</td>\n",
       "      <td>0.452102</td>\n",
       "      <td>1.000000</td>\n",
       "      <td>-0.188059</td>\n",
       "      <td>0.715293</td>\n",
       "      <td>0.195362</td>\n",
       "      <td>0.369287</td>\n",
       "      <td>0.091629</td>\n",
       "      <td>...</td>\n",
       "      <td>-0.251442</td>\n",
       "      <td>-0.253834</td>\n",
       "      <td>-0.527736</td>\n",
       "      <td>-0.401398</td>\n",
       "      <td>-0.421455</td>\n",
       "      <td>-0.319607</td>\n",
       "      <td>-0.274739</td>\n",
       "      <td>-0.507275</td>\n",
       "      <td>-0.358133</td>\n",
       "      <td>-0.418075</td>\n",
       "    </tr>\n",
       "  </tbody>\n",
       "</table>\n",
       "<p>5 rows × 7523 columns</p>\n",
       "</div>"
      ],
      "text/plain": [
       "       0         1         2         3         4         5         6     \\\n",
       "0  1.000000  0.607718  0.117785 -0.247313  0.060008  0.333405 -0.048603   \n",
       "1  0.607718  1.000000  0.114584 -0.339294  0.001005  0.360165 -0.087299   \n",
       "2  0.117785  0.114584  1.000000  0.488342  0.613387  0.056801  0.827585   \n",
       "3 -0.247313 -0.339294  0.488342  1.000000  0.452102 -0.330532  0.814349   \n",
       "4  0.060008  0.001005  0.613387  0.452102  1.000000 -0.188059  0.715293   \n",
       "\n",
       "       7         8         9     ...      7513      7514      7515      7516  \\\n",
       "0 -0.134049 -0.214334  0.348403  ... -0.156958 -0.151103 -0.170856 -0.038998   \n",
       "1  0.063736  0.020198  0.593647  ... -0.280270 -0.286369 -0.240726 -0.059517   \n",
       "2 -0.166444  0.014507  0.222916  ... -0.170198 -0.366902 -0.480018 -0.203460   \n",
       "3  0.351531  0.225500 -0.322633  ... -0.133322 -0.333869 -0.451594 -0.532823   \n",
       "4  0.195362  0.369287  0.091629  ... -0.251442 -0.253834 -0.527736 -0.401398   \n",
       "\n",
       "       7517      7518      7519      7520      7521      7522  \n",
       "0 -0.110694 -0.185830  0.134936 -0.190992  0.152416 -0.074003  \n",
       "1 -0.167653 -0.241480  0.253518 -0.261755  0.136113 -0.131514  \n",
       "2 -0.312837 -0.410418 -0.134315 -0.478862 -0.039747 -0.224076  \n",
       "3 -0.329638 -0.375688 -0.643644 -0.374483 -0.223342 -0.219899  \n",
       "4 -0.421455 -0.319607 -0.274739 -0.507275 -0.358133 -0.418075  \n",
       "\n",
       "[5 rows x 7523 columns]"
      ]
     },
     "execution_count": 124,
     "metadata": {},
     "output_type": "execute_result"
    }
   ],
   "source": [
    "# calculate movies similarities\n",
    "from sklearn.metrics.pairwise import cosine_similarity\n",
    "from sklearn.preprocessing import StandardScaler\n",
    "\n",
    "mov_genres_df = pd.read_csv(p_data / \"df_movie_genres.csv\")\n",
    "mov_others_df = pd.read_csv(p_data / \"df_movie_others.csv\")\n",
    "cos_genres = cosine_similarity(StandardScaler().fit_transform(mov_genres_df.values))*0.5\n",
    "cos_others = cosine_similarity(StandardScaler().fit_transform(mov_others_df.values))*0.5\n",
    "cos = cos_genres+cos_others\n",
    "\n",
    "movies_sim = pd.DataFrame(cos, columns=mov_genres_df.index.values, index=mov_genres_df.index)\n",
    "movies_sim.head()"
   ]
  },
  {
   "cell_type": "code",
   "execution_count": 125,
   "metadata": {
    "scrolled": false
   },
   "outputs": [
    {
     "data": {
      "image/png": "[encoded data removed]",
      "text/plain": [
       "<Figure size 864x864 with 2 Axes>"
      ]
     },
     "metadata": {
      "needs_background": "light"
     },
     "output_type": "display_data"
    }
   ],
   "source": [
    "fig, ax = plt.subplots(1, 1, figsize=(12, 12))\n",
    "sns.heatmap(movies_sim.iloc[:50, :50], ax=ax)\n",
    "ax.set_title(\"Movie Similarity Matrix\", fontsize=12)\n",
    "plt.show()"
   ]
  },
  {
   "cell_type": "code",
   "execution_count": 134,
   "metadata": {},
   "outputs": [],
   "source": [
    "df_selected = mov_others_df.loc[mov_others_df[\"release_cate\"]>=3, :]\n",
    "selected_movies = df_selected.index\n",
    "selected_movies_sim = movies_sim.loc[selected_movies, selected_movies]"
   ]
  },
  {
   "cell_type": "code",
   "execution_count": 207,
   "metadata": {},
   "outputs": [
    {
     "data": {
      "application/vnd.jupyter.widget-view+json": {
       "model_id": "a7d1fa307b68457598f5c84cae21c31d",
       "version_major": 2,
       "version_minor": 0
      },
      "text/plain": [
       "HBox(children=(FloatProgress(value=0.0, max=3419.0), HTML(value='')))"
      ]
     },
     "metadata": {},
     "output_type": "display_data"
    },
    {
     "name": "stdout",
     "output_type": "stream",
     "text": [
      "\n"
     ]
    }
   ],
   "source": [
    "for i, mid in tqdm_notebook(enumerate(selected_movies), total=len(selected_movies)):\n",
    "    x = selected_movies_sim[mid]\n",
    "    from_idx = np.argmax(x.index == mid)\n",
    "    idx = x.index[(from_idx+1):]\n",
    "    values = x.values[(from_idx+1):]\n",
    "    if i == 0:\n",
    "        temp = np.vstack([np.ones(len(idx)).astype(np.int) * np.array([mid]), idx, values]).T\n",
    "    else:\n",
    "        new = np.vstack([np.ones(len(idx)).astype(np.int) * np.array([mid]), idx, values]).T\n",
    "        temp = np.vstack([temp, new])"
   ]
  },
  {
   "cell_type": "code",
   "execution_count": 209,
   "metadata": {},
   "outputs": [],
   "source": [
    "df_sim = pd.DataFrame(temp, columns=[\"movie1\", \"movie2\", \"similarity\"])\n",
    "df_sim[\"movie1\"] = df_sim[\"movie1\"].astype(int)\n",
    "df_sim[\"movie2\"] = df_sim[\"movie2\"].astype(int)"
   ]
  },
  {
   "cell_type": "code",
   "execution_count": 211,
   "metadata": {},
   "outputs": [],
   "source": [
    "df_sim.to_csv(p_data / \"df_movie_sim.csv\", index=False)"
   ]
  },
  {
   "cell_type": "code",
   "execution_count": null,
   "metadata": {},
   "outputs": [],
   "source": []
  },
  {
   "cell_type": "code",
   "execution_count": 218,
   "metadata": {},
   "outputs": [],
   "source": [
    "# user similarity\n",
    "temp = pd.DataFrame(user_fav_genres).T"
   ]
  },
  {
   "cell_type": "code",
   "execution_count": 219,
   "metadata": {},
   "outputs": [
    {
     "data": {
      "text/html": [
       "<div>\n",
       "<style scoped>\n",
       "    .dataframe tbody tr th:only-of-type {\n",
       "        vertical-align: middle;\n",
       "    }\n",
       "\n",
       "    .dataframe tbody tr th {\n",
       "        vertical-align: top;\n",
       "    }\n",
       "\n",
       "    .dataframe thead th {\n",
       "        text-align: right;\n",
       "    }\n",
       "</style>\n",
       "<table border=\"1\" class=\"dataframe\">\n",
       "  <thead>\n",
       "    <tr style=\"text-align: right;\">\n",
       "      <th></th>\n",
       "      <th>0</th>\n",
       "      <th>1</th>\n",
       "      <th>2</th>\n",
       "    </tr>\n",
       "  </thead>\n",
       "  <tbody>\n",
       "    <tr>\n",
       "      <th>1</th>\n",
       "      <td>(Drama, 7)</td>\n",
       "      <td>(Action, 6)</td>\n",
       "      <td>(Adventure, 6)</td>\n",
       "    </tr>\n",
       "    <tr>\n",
       "      <th>2</th>\n",
       "      <td>(Drama, 45)</td>\n",
       "      <td>(Comedy, 28)</td>\n",
       "      <td>(Romance, 24)</td>\n",
       "    </tr>\n",
       "    <tr>\n",
       "      <th>3</th>\n",
       "      <td>(Drama, 28)</td>\n",
       "      <td>(Comedy, 14)</td>\n",
       "      <td>(Adventure, 13)</td>\n",
       "    </tr>\n",
       "    <tr>\n",
       "      <th>4</th>\n",
       "      <td>(Comedy, 81)</td>\n",
       "      <td>(Adventure, 67)</td>\n",
       "      <td>(Drama, 56)</td>\n",
       "    </tr>\n",
       "    <tr>\n",
       "      <th>5</th>\n",
       "      <td>(Comedy, 52)</td>\n",
       "      <td>(Drama, 44)</td>\n",
       "      <td>(Romance, 32)</td>\n",
       "    </tr>\n",
       "    <tr>\n",
       "      <th>...</th>\n",
       "      <td>...</td>\n",
       "      <td>...</td>\n",
       "      <td>...</td>\n",
       "    </tr>\n",
       "    <tr>\n",
       "      <th>667</th>\n",
       "      <td>(Drama, 47)</td>\n",
       "      <td>(Comedy, 26)</td>\n",
       "      <td>(Romance, 22)</td>\n",
       "    </tr>\n",
       "    <tr>\n",
       "      <th>668</th>\n",
       "      <td>(Drama, 13)</td>\n",
       "      <td>(Crime, 8)</td>\n",
       "      <td>(Comedy, 6)</td>\n",
       "    </tr>\n",
       "    <tr>\n",
       "      <th>669</th>\n",
       "      <td>(Comedy, 16)</td>\n",
       "      <td>(Thriller, 11)</td>\n",
       "      <td>(Drama, 10)</td>\n",
       "    </tr>\n",
       "    <tr>\n",
       "      <th>670</th>\n",
       "      <td>(Drama, 20)</td>\n",
       "      <td>(Crime, 10)</td>\n",
       "      <td>(Thriller, 9)</td>\n",
       "    </tr>\n",
       "    <tr>\n",
       "      <th>671</th>\n",
       "      <td>(Drama, 54)</td>\n",
       "      <td>(Comedy, 44)</td>\n",
       "      <td>(Adventure, 29)</td>\n",
       "    </tr>\n",
       "  </tbody>\n",
       "</table>\n",
       "<p>671 rows × 3 columns</p>\n",
       "</div>"
      ],
      "text/plain": [
       "                0                1                2\n",
       "1      (Drama, 7)      (Action, 6)   (Adventure, 6)\n",
       "2     (Drama, 45)     (Comedy, 28)    (Romance, 24)\n",
       "3     (Drama, 28)     (Comedy, 14)  (Adventure, 13)\n",
       "4    (Comedy, 81)  (Adventure, 67)      (Drama, 56)\n",
       "5    (Comedy, 52)      (Drama, 44)    (Romance, 32)\n",
       "..            ...              ...              ...\n",
       "667   (Drama, 47)     (Comedy, 26)    (Romance, 22)\n",
       "668   (Drama, 13)       (Crime, 8)      (Comedy, 6)\n",
       "669  (Comedy, 16)   (Thriller, 11)      (Drama, 10)\n",
       "670   (Drama, 20)      (Crime, 10)    (Thriller, 9)\n",
       "671   (Drama, 54)     (Comedy, 44)  (Adventure, 29)\n",
       "\n",
       "[671 rows x 3 columns]"
      ]
     },
     "execution_count": 219,
     "metadata": {},
     "output_type": "execute_result"
    }
   ],
   "source": [
    "temp"
   ]
  },
  {
   "cell_type": "markdown",
   "metadata": {},
   "source": [
    "---"
   ]
  },
  {
   "cell_type": "code",
   "execution_count": 219,
   "metadata": {},
   "outputs": [
    {
     "data": {
      "text/plain": [
       "Index(['userId', 'rating', 'fv1', 'fv2', 'fv3'], dtype='object')"
      ]
     },
     "execution_count": 219,
     "metadata": {},
     "output_type": "execute_result"
    }
   ],
   "source": [
    "df_user_final.columns"
   ]
  },
  {
   "cell_type": "code",
   "execution_count": null,
   "metadata": {},
   "outputs": [],
   "source": []
  },
  {
   "cell_type": "code",
   "execution_count": 58,
   "metadata": {},
   "outputs": [],
   "source": [
    "df = pd.read_csv(p_data / \"preprocessed_movie_meta.tsv\", encoding=\"utf-8\", sep=\"\\t\")"
   ]
  },
  {
   "cell_type": "code",
   "execution_count": 59,
   "metadata": {},
   "outputs": [],
   "source": [
    "df.drop(columns=[\"Unnamed: 0\"], inplace=True)"
   ]
  },
  {
   "cell_type": "code",
   "execution_count": 221,
   "metadata": {},
   "outputs": [],
   "source": [
    "mov_genres_df = pd.read_csv(\"./movie_genres.csv\")\n",
    "mov_rating_df = pd.read_csv(\"./movie_vote_release.csv\")"
   ]
  },
  {
   "cell_type": "code",
   "execution_count": 222,
   "metadata": {},
   "outputs": [],
   "source": [
    "mov_genres_df = mov_genres_df.set_index('movieId')\n",
    "mov_rating_df = mov_rating_df.set_index('movieId')"
   ]
  },
  {
   "cell_type": "code",
   "execution_count": 224,
   "metadata": {
    "scrolled": true
   },
   "outputs": [
    {
     "data": {
      "text/html": [
       "<div>\n",
       "<style scoped>\n",
       "    .dataframe tbody tr th:only-of-type {\n",
       "        vertical-align: middle;\n",
       "    }\n",
       "\n",
       "    .dataframe tbody tr th {\n",
       "        vertical-align: top;\n",
       "    }\n",
       "\n",
       "    .dataframe thead th {\n",
       "        text-align: right;\n",
       "    }\n",
       "</style>\n",
       "<table border=\"1\" class=\"dataframe\">\n",
       "  <thead>\n",
       "    <tr style=\"text-align: right;\">\n",
       "      <th></th>\n",
       "      <th>release_cate</th>\n",
       "      <th>vote_average</th>\n",
       "      <th>vote_group</th>\n",
       "    </tr>\n",
       "    <tr>\n",
       "      <th>movieId</th>\n",
       "      <th></th>\n",
       "      <th></th>\n",
       "      <th></th>\n",
       "    </tr>\n",
       "  </thead>\n",
       "  <tbody>\n",
       "    <tr>\n",
       "      <th>1</th>\n",
       "      <td>2</td>\n",
       "      <td>7.7</td>\n",
       "      <td>5</td>\n",
       "    </tr>\n",
       "    <tr>\n",
       "      <th>2</th>\n",
       "      <td>2</td>\n",
       "      <td>6.9</td>\n",
       "      <td>4</td>\n",
       "    </tr>\n",
       "    <tr>\n",
       "      <th>3</th>\n",
       "      <td>2</td>\n",
       "      <td>6.5</td>\n",
       "      <td>2</td>\n",
       "    </tr>\n",
       "    <tr>\n",
       "      <th>4</th>\n",
       "      <td>2</td>\n",
       "      <td>6.1</td>\n",
       "      <td>2</td>\n",
       "    </tr>\n",
       "    <tr>\n",
       "      <th>5</th>\n",
       "      <td>2</td>\n",
       "      <td>5.7</td>\n",
       "      <td>3</td>\n",
       "    </tr>\n",
       "    <tr>\n",
       "      <th>...</th>\n",
       "      <td>...</td>\n",
       "      <td>...</td>\n",
       "      <td>...</td>\n",
       "    </tr>\n",
       "    <tr>\n",
       "      <th>159462</th>\n",
       "      <td>2</td>\n",
       "      <td>5.0</td>\n",
       "      <td>2</td>\n",
       "    </tr>\n",
       "    <tr>\n",
       "      <th>160563</th>\n",
       "      <td>5</td>\n",
       "      <td>5.5</td>\n",
       "      <td>4</td>\n",
       "    </tr>\n",
       "    <tr>\n",
       "      <th>161944</th>\n",
       "      <td>3</td>\n",
       "      <td>7.0</td>\n",
       "      <td>0</td>\n",
       "    </tr>\n",
       "    <tr>\n",
       "      <th>7502</th>\n",
       "      <td>3</td>\n",
       "      <td>8.2</td>\n",
       "      <td>3</td>\n",
       "    </tr>\n",
       "    <tr>\n",
       "      <th>77658</th>\n",
       "      <td>0</td>\n",
       "      <td>9.1</td>\n",
       "      <td>2</td>\n",
       "    </tr>\n",
       "  </tbody>\n",
       "</table>\n",
       "<p>7669 rows × 3 columns</p>\n",
       "</div>"
      ],
      "text/plain": [
       "         release_cate  vote_average  vote_group\n",
       "movieId                                        \n",
       "1                   2           7.7           5\n",
       "2                   2           6.9           4\n",
       "3                   2           6.5           2\n",
       "4                   2           6.1           2\n",
       "5                   2           5.7           3\n",
       "...               ...           ...         ...\n",
       "159462              2           5.0           2\n",
       "160563              5           5.5           4\n",
       "161944              3           7.0           0\n",
       "7502                3           8.2           3\n",
       "77658               0           9.1           2\n",
       "\n",
       "[7669 rows x 3 columns]"
      ]
     },
     "execution_count": 224,
     "metadata": {},
     "output_type": "execute_result"
    }
   ],
   "source": [
    "mov_rating_df"
   ]
  },
  {
   "cell_type": "code",
   "execution_count": 151,
   "metadata": {},
   "outputs": [],
   "source": [
    "from sklearn.metrics.pairwise import cosine_similarity\n"
   ]
  },
  {
   "cell_type": "code",
   "execution_count": 152,
   "metadata": {},
   "outputs": [],
   "source": [
    "cos_genres = cosine_similarity(mov_genres_df.values)*0.5\n",
    "cos_rating = cosine_similarity(mov_rating_df.values)*0.5\n",
    "cos = cos_genres+cos_rating"
   ]
  },
  {
   "cell_type": "code",
   "execution_count": 157,
   "metadata": {},
   "outputs": [
    {
     "data": {
      "text/html": [
       "<div>\n",
       "<style scoped>\n",
       "    .dataframe tbody tr th:only-of-type {\n",
       "        vertical-align: middle;\n",
       "    }\n",
       "\n",
       "    .dataframe tbody tr th {\n",
       "        vertical-align: top;\n",
       "    }\n",
       "\n",
       "    .dataframe thead th {\n",
       "        text-align: right;\n",
       "    }\n",
       "</style>\n",
       "<table border=\"1\" class=\"dataframe\">\n",
       "  <thead>\n",
       "    <tr style=\"text-align: right;\">\n",
       "      <th></th>\n",
       "      <th>1</th>\n",
       "      <th>2</th>\n",
       "      <th>3</th>\n",
       "      <th>4</th>\n",
       "      <th>5</th>\n",
       "      <th>6</th>\n",
       "      <th>7</th>\n",
       "      <th>8</th>\n",
       "      <th>9</th>\n",
       "      <th>10</th>\n",
       "      <th>...</th>\n",
       "      <th>145307</th>\n",
       "      <th>147037</th>\n",
       "      <th>152057</th>\n",
       "      <th>152173</th>\n",
       "      <th>152844</th>\n",
       "      <th>159462</th>\n",
       "      <th>160563</th>\n",
       "      <th>161944</th>\n",
       "      <th>7502</th>\n",
       "      <th>77658</th>\n",
       "    </tr>\n",
       "    <tr>\n",
       "      <th>movieId</th>\n",
       "      <th></th>\n",
       "      <th></th>\n",
       "      <th></th>\n",
       "      <th></th>\n",
       "      <th></th>\n",
       "      <th></th>\n",
       "      <th></th>\n",
       "      <th></th>\n",
       "      <th></th>\n",
       "      <th></th>\n",
       "      <th></th>\n",
       "      <th></th>\n",
       "      <th></th>\n",
       "      <th></th>\n",
       "      <th></th>\n",
       "      <th></th>\n",
       "      <th></th>\n",
       "      <th></th>\n",
       "      <th></th>\n",
       "      <th></th>\n",
       "      <th></th>\n",
       "    </tr>\n",
       "  </thead>\n",
       "  <tbody>\n",
       "    <tr>\n",
       "      <th>1</th>\n",
       "      <td>1.000000</td>\n",
       "      <td>0.665818</td>\n",
       "      <td>0.684925</td>\n",
       "      <td>0.649184</td>\n",
       "      <td>0.784854</td>\n",
       "      <td>0.497735</td>\n",
       "      <td>0.699289</td>\n",
       "      <td>0.629509</td>\n",
       "      <td>0.496405</td>\n",
       "      <td>0.499390</td>\n",
       "      <td>...</td>\n",
       "      <td>0.664070</td>\n",
       "      <td>0.716154</td>\n",
       "      <td>0.443173</td>\n",
       "      <td>0.473662</td>\n",
       "      <td>0.468413</td>\n",
       "      <td>0.486314</td>\n",
       "      <td>0.456100</td>\n",
       "      <td>0.418530</td>\n",
       "      <td>0.484948</td>\n",
       "      <td>0.457298</td>\n",
       "    </tr>\n",
       "    <tr>\n",
       "      <th>2</th>\n",
       "      <td>0.665818</td>\n",
       "      <td>1.000000</td>\n",
       "      <td>0.487671</td>\n",
       "      <td>0.489175</td>\n",
       "      <td>0.498847</td>\n",
       "      <td>0.499403</td>\n",
       "      <td>0.498361</td>\n",
       "      <td>0.780059</td>\n",
       "      <td>0.665509</td>\n",
       "      <td>0.666562</td>\n",
       "      <td>...</td>\n",
       "      <td>0.470339</td>\n",
       "      <td>0.440886</td>\n",
       "      <td>0.454370</td>\n",
       "      <td>0.481174</td>\n",
       "      <td>0.474509</td>\n",
       "      <td>0.492221</td>\n",
       "      <td>0.664818</td>\n",
       "      <td>0.433561</td>\n",
       "      <td>0.491208</td>\n",
       "      <td>0.462010</td>\n",
       "    </tr>\n",
       "    <tr>\n",
       "      <th>3</th>\n",
       "      <td>0.684925</td>\n",
       "      <td>0.487671</td>\n",
       "      <td>1.000000</td>\n",
       "      <td>0.908107</td>\n",
       "      <td>0.845597</td>\n",
       "      <td>0.491512</td>\n",
       "      <td>0.994674</td>\n",
       "      <td>0.498702</td>\n",
       "      <td>0.490682</td>\n",
       "      <td>0.485716</td>\n",
       "      <td>...</td>\n",
       "      <td>0.995971</td>\n",
       "      <td>0.821769</td>\n",
       "      <td>0.472231</td>\n",
       "      <td>0.498614</td>\n",
       "      <td>0.491348</td>\n",
       "      <td>0.497279</td>\n",
       "      <td>0.449146</td>\n",
       "      <td>0.476975</td>\n",
       "      <td>0.498877</td>\n",
       "      <td>0.478069</td>\n",
       "    </tr>\n",
       "    <tr>\n",
       "      <th>4</th>\n",
       "      <td>0.649184</td>\n",
       "      <td>0.489175</td>\n",
       "      <td>0.908107</td>\n",
       "      <td>1.000000</td>\n",
       "      <td>0.782283</td>\n",
       "      <td>0.636802</td>\n",
       "      <td>0.904054</td>\n",
       "      <td>0.643754</td>\n",
       "      <td>0.492434</td>\n",
       "      <td>0.487450</td>\n",
       "      <td>...</td>\n",
       "      <td>0.903510</td>\n",
       "      <td>0.758658</td>\n",
       "      <td>0.678798</td>\n",
       "      <td>0.497590</td>\n",
       "      <td>0.489224</td>\n",
       "      <td>0.498375</td>\n",
       "      <td>0.454139</td>\n",
       "      <td>0.764194</td>\n",
       "      <td>0.666198</td>\n",
       "      <td>0.474961</td>\n",
       "    </tr>\n",
       "    <tr>\n",
       "      <th>5</th>\n",
       "      <td>0.784854</td>\n",
       "      <td>0.498847</td>\n",
       "      <td>0.845597</td>\n",
       "      <td>0.782283</td>\n",
       "      <td>1.000000</td>\n",
       "      <td>0.498606</td>\n",
       "      <td>0.853206</td>\n",
       "      <td>0.495931</td>\n",
       "      <td>0.499934</td>\n",
       "      <td>0.498594</td>\n",
       "      <td>...</td>\n",
       "      <td>0.832043</td>\n",
       "      <td>0.955877</td>\n",
       "      <td>0.467346</td>\n",
       "      <td>0.485342</td>\n",
       "      <td>0.475703</td>\n",
       "      <td>0.496839</td>\n",
       "      <td>0.468548</td>\n",
       "      <td>0.446797</td>\n",
       "      <td>0.495743</td>\n",
       "      <td>0.460448</td>\n",
       "    </tr>\n",
       "  </tbody>\n",
       "</table>\n",
       "<p>5 rows × 7669 columns</p>\n",
       "</div>"
      ],
      "text/plain": [
       "           1         2         3         4         5         6         7       \\\n",
       "movieId                                                                         \n",
       "1        1.000000  0.665818  0.684925  0.649184  0.784854  0.497735  0.699289   \n",
       "2        0.665818  1.000000  0.487671  0.489175  0.498847  0.499403  0.498361   \n",
       "3        0.684925  0.487671  1.000000  0.908107  0.845597  0.491512  0.994674   \n",
       "4        0.649184  0.489175  0.908107  1.000000  0.782283  0.636802  0.904054   \n",
       "5        0.784854  0.498847  0.845597  0.782283  1.000000  0.498606  0.853206   \n",
       "\n",
       "           8         9         10      ...    145307    147037    152057  \\\n",
       "movieId                                ...                                 \n",
       "1        0.629509  0.496405  0.499390  ...  0.664070  0.716154  0.443173   \n",
       "2        0.780059  0.665509  0.666562  ...  0.470339  0.440886  0.454370   \n",
       "3        0.498702  0.490682  0.485716  ...  0.995971  0.821769  0.472231   \n",
       "4        0.643754  0.492434  0.487450  ...  0.903510  0.758658  0.678798   \n",
       "5        0.495931  0.499934  0.498594  ...  0.832043  0.955877  0.467346   \n",
       "\n",
       "           152173    152844    159462    160563    161944    7502      77658   \n",
       "movieId                                                                        \n",
       "1        0.473662  0.468413  0.486314  0.456100  0.418530  0.484948  0.457298  \n",
       "2        0.481174  0.474509  0.492221  0.664818  0.433561  0.491208  0.462010  \n",
       "3        0.498614  0.491348  0.497279  0.449146  0.476975  0.498877  0.478069  \n",
       "4        0.497590  0.489224  0.498375  0.454139  0.764194  0.666198  0.474961  \n",
       "5        0.485342  0.475703  0.496839  0.468548  0.446797  0.495743  0.460448  \n",
       "\n",
       "[5 rows x 7669 columns]"
      ]
     },
     "execution_count": 157,
     "metadata": {},
     "output_type": "execute_result"
    }
   ],
   "source": [
    "cols = mov_rating_df.index.values\n",
    "inx = mov_rating_df.index\n",
    "movies_sim = pd.DataFrame(cos, columns=cols, index=inx)\n",
    "movies_sim.head()"
   ]
  },
  {
   "cell_type": "code",
   "execution_count": 159,
   "metadata": {},
   "outputs": [],
   "source": [
    "movies_sim.to_csv(\"./movies_sim.csv\", index=False)"
   ]
  },
  {
   "cell_type": "code",
   "execution_count": null,
   "metadata": {},
   "outputs": [],
   "source": []
  },
  {
   "cell_type": "code",
   "execution_count": null,
   "metadata": {},
   "outputs": [],
   "source": []
  },
  {
   "cell_type": "code",
   "execution_count": 135,
   "metadata": {
    "scrolled": true
   },
   "outputs": [],
   "source": []
  },
  {
   "cell_type": "code",
   "execution_count": 136,
   "metadata": {},
   "outputs": [],
   "source": [
    "a = df.loc[:, (\"movieId\", \"release_cate\", \"vote_average\", \"vote_count\")]\n",
    "def set_rating_group(rating_counts):\n",
    "    if (rating_counts <= 1): return 0\n",
    "    elif (2 <= rating_counts <= 10): return 1\n",
    "    elif (11 <= rating_counts <= 100): return 2\n",
    "    elif (101 <= rating_counts <= 1000): return 3\n",
    "    elif (1001 <= rating_counts <= 5000): return 4\n",
    "    elif (5001 <= rating_counts): return 5\n",
    "    else: return 0\n",
    "a['vote_group'] = a['vote_count'].apply(set_rating_group)"
   ]
  },
  {
   "cell_type": "code",
   "execution_count": 137,
   "metadata": {},
   "outputs": [
    {
     "data": {
      "text/plain": [
       "array(['1976-1995', '2010-', '1996-2003', '1900-1975', '2004-2009', nan],\n",
       "      dtype=object)"
      ]
     },
     "execution_count": 137,
     "metadata": {},
     "output_type": "execute_result"
    }
   ],
   "source": [
    "a.release_cate.unique()"
   ]
  },
  {
   "cell_type": "code",
   "execution_count": 138,
   "metadata": {},
   "outputs": [],
   "source": [
    "a.release_cate = a.release_cate.fillna(\"UNK\")"
   ]
  },
  {
   "cell_type": "code",
   "execution_count": 139,
   "metadata": {},
   "outputs": [],
   "source": [
    "release_dict = {'UNK': 0, '1900-1975':1,'1976-1995':2, '1996-2003':3, '2004-2009':4, '2010-':5}"
   ]
  },
  {
   "cell_type": "code",
   "execution_count": 140,
   "metadata": {},
   "outputs": [],
   "source": [
    "a.release_cate = a.release_cate.apply(release_dict.get)"
   ]
  },
  {
   "cell_type": "code",
   "execution_count": 141,
   "metadata": {},
   "outputs": [],
   "source": [
    "a.drop(columns=[\"vote_count\"], inplace=True)"
   ]
  },
  {
   "cell_type": "code",
   "execution_count": 142,
   "metadata": {},
   "outputs": [],
   "source": [
    "a.to_csv(\"movie_vote_release.csv\", index=False)"
   ]
  },
  {
   "cell_type": "code",
   "execution_count": 143,
   "metadata": {},
   "outputs": [
    {
     "data": {
      "text/html": [
       "<div>\n",
       "<style scoped>\n",
       "    .dataframe tbody tr th:only-of-type {\n",
       "        vertical-align: middle;\n",
       "    }\n",
       "\n",
       "    .dataframe tbody tr th {\n",
       "        vertical-align: top;\n",
       "    }\n",
       "\n",
       "    .dataframe thead th {\n",
       "        text-align: right;\n",
       "    }\n",
       "</style>\n",
       "<table border=\"1\" class=\"dataframe\">\n",
       "  <thead>\n",
       "    <tr style=\"text-align: right;\">\n",
       "      <th></th>\n",
       "      <th>movieId</th>\n",
       "      <th>release_cate</th>\n",
       "      <th>vote_average</th>\n",
       "      <th>vote_group</th>\n",
       "    </tr>\n",
       "  </thead>\n",
       "  <tbody>\n",
       "    <tr>\n",
       "      <th>0</th>\n",
       "      <td>1</td>\n",
       "      <td>2</td>\n",
       "      <td>7.7</td>\n",
       "      <td>5</td>\n",
       "    </tr>\n",
       "    <tr>\n",
       "      <th>1</th>\n",
       "      <td>2</td>\n",
       "      <td>2</td>\n",
       "      <td>6.9</td>\n",
       "      <td>4</td>\n",
       "    </tr>\n",
       "    <tr>\n",
       "      <th>2</th>\n",
       "      <td>3</td>\n",
       "      <td>2</td>\n",
       "      <td>6.5</td>\n",
       "      <td>2</td>\n",
       "    </tr>\n",
       "    <tr>\n",
       "      <th>3</th>\n",
       "      <td>4</td>\n",
       "      <td>2</td>\n",
       "      <td>6.1</td>\n",
       "      <td>2</td>\n",
       "    </tr>\n",
       "    <tr>\n",
       "      <th>4</th>\n",
       "      <td>5</td>\n",
       "      <td>2</td>\n",
       "      <td>5.7</td>\n",
       "      <td>3</td>\n",
       "    </tr>\n",
       "    <tr>\n",
       "      <th>...</th>\n",
       "      <td>...</td>\n",
       "      <td>...</td>\n",
       "      <td>...</td>\n",
       "      <td>...</td>\n",
       "    </tr>\n",
       "    <tr>\n",
       "      <th>7664</th>\n",
       "      <td>159462</td>\n",
       "      <td>2</td>\n",
       "      <td>5.0</td>\n",
       "      <td>2</td>\n",
       "    </tr>\n",
       "    <tr>\n",
       "      <th>7665</th>\n",
       "      <td>160563</td>\n",
       "      <td>5</td>\n",
       "      <td>5.5</td>\n",
       "      <td>4</td>\n",
       "    </tr>\n",
       "    <tr>\n",
       "      <th>7666</th>\n",
       "      <td>161944</td>\n",
       "      <td>3</td>\n",
       "      <td>7.0</td>\n",
       "      <td>0</td>\n",
       "    </tr>\n",
       "    <tr>\n",
       "      <th>7667</th>\n",
       "      <td>7502</td>\n",
       "      <td>3</td>\n",
       "      <td>8.2</td>\n",
       "      <td>3</td>\n",
       "    </tr>\n",
       "    <tr>\n",
       "      <th>7668</th>\n",
       "      <td>77658</td>\n",
       "      <td>0</td>\n",
       "      <td>9.1</td>\n",
       "      <td>2</td>\n",
       "    </tr>\n",
       "  </tbody>\n",
       "</table>\n",
       "<p>7669 rows × 4 columns</p>\n",
       "</div>"
      ],
      "text/plain": [
       "      movieId  release_cate  vote_average  vote_group\n",
       "0           1             2           7.7           5\n",
       "1           2             2           6.9           4\n",
       "2           3             2           6.5           2\n",
       "3           4             2           6.1           2\n",
       "4           5             2           5.7           3\n",
       "...       ...           ...           ...         ...\n",
       "7664   159462             2           5.0           2\n",
       "7665   160563             5           5.5           4\n",
       "7666   161944             3           7.0           0\n",
       "7667     7502             3           8.2           3\n",
       "7668    77658             0           9.1           2\n",
       "\n",
       "[7669 rows x 4 columns]"
      ]
     },
     "execution_count": 143,
     "metadata": {},
     "output_type": "execute_result"
    }
   ],
   "source": [
    "a"
   ]
  },
  {
   "cell_type": "code",
   "execution_count": 61,
   "metadata": {},
   "outputs": [],
   "source": [
    "df[\"gg\"] = df.genres.str.split(\"|\", expand=False).fillna(\"UNK\")"
   ]
  },
  {
   "cell_type": "code",
   "execution_count": 62,
   "metadata": {},
   "outputs": [],
   "source": [
    "genres = set()\n",
    "for x in df[\"gg\"]:\n",
    "    if x == \"UNK\":\n",
    "        genres.add(\"UNK\")\n",
    "    else:\n",
    "        for y in x:\n",
    "            genres.add(y)"
   ]
  },
  {
   "cell_type": "code",
   "execution_count": 63,
   "metadata": {},
   "outputs": [],
   "source": [
    "genres_dict = {g: i for i, g in enumerate(genres)}"
   ]
  },
  {
   "cell_type": "code",
   "execution_count": 51,
   "metadata": {},
   "outputs": [
    {
     "data": {
      "text/html": [
       "<div>\n",
       "<style scoped>\n",
       "    .dataframe tbody tr th:only-of-type {\n",
       "        vertical-align: middle;\n",
       "    }\n",
       "\n",
       "    .dataframe tbody tr th {\n",
       "        vertical-align: top;\n",
       "    }\n",
       "\n",
       "    .dataframe thead th {\n",
       "        text-align: right;\n",
       "    }\n",
       "</style>\n",
       "<table border=\"1\" class=\"dataframe\">\n",
       "  <thead>\n",
       "    <tr style=\"text-align: right;\">\n",
       "      <th></th>\n",
       "      <th>movieId</th>\n",
       "      <th>gg</th>\n",
       "    </tr>\n",
       "  </thead>\n",
       "  <tbody>\n",
       "    <tr>\n",
       "      <th>0</th>\n",
       "      <td>1</td>\n",
       "      <td>[Animation, Comedy, Family]</td>\n",
       "    </tr>\n",
       "    <tr>\n",
       "      <th>1</th>\n",
       "      <td>2</td>\n",
       "      <td>[Adventure, Fantasy, Family]</td>\n",
       "    </tr>\n",
       "    <tr>\n",
       "      <th>2</th>\n",
       "      <td>3</td>\n",
       "      <td>[Romance, Comedy]</td>\n",
       "    </tr>\n",
       "    <tr>\n",
       "      <th>3</th>\n",
       "      <td>4</td>\n",
       "      <td>[Comedy, Drama, Romance]</td>\n",
       "    </tr>\n",
       "    <tr>\n",
       "      <th>4</th>\n",
       "      <td>5</td>\n",
       "      <td>[Comedy]</td>\n",
       "    </tr>\n",
       "  </tbody>\n",
       "</table>\n",
       "</div>"
      ],
      "text/plain": [
       "   movieId                            gg\n",
       "0        1   [Animation, Comedy, Family]\n",
       "1        2  [Adventure, Fantasy, Family]\n",
       "2        3             [Romance, Comedy]\n",
       "3        4      [Comedy, Drama, Romance]\n",
       "4        5                      [Comedy]"
      ]
     },
     "execution_count": 51,
     "metadata": {},
     "output_type": "execute_result"
    }
   ],
   "source": [
    "df_temp = df.loc[:, (\"movieId\", \"gg\")]\n",
    "df_temp.head()"
   ]
  },
  {
   "cell_type": "code",
   "execution_count": 65,
   "metadata": {},
   "outputs": [],
   "source": [
    "gg = df_temp.gg.apply(lambda x: [genres_dict.get(i) for i in x] if isinstance(x, list) else [genres_dict.get(x)])"
   ]
  },
  {
   "cell_type": "code",
   "execution_count": 84,
   "metadata": {},
   "outputs": [
    {
     "data": {
      "text/plain": [
       "dict_keys(['TV Movie', 'Horror', 'Animation', 'UNK', 'Adventure', 'Documentary', 'Action', 'Western', 'Family', 'Science Fiction', 'Fantasy', 'Mystery', 'Crime', 'War', 'History', 'Drama', 'Thriller', 'Foreign', 'Comedy', 'Romance', 'Music'])"
      ]
     },
     "execution_count": 84,
     "metadata": {},
     "output_type": "execute_result"
    }
   ],
   "source": []
  },
  {
   "cell_type": "code",
   "execution_count": 72,
   "metadata": {
    "scrolled": true
   },
   "outputs": [],
   "source": []
  },
  {
   "cell_type": "code",
   "execution_count": 79,
   "metadata": {},
   "outputs": [],
   "source": []
  },
  {
   "cell_type": "code",
   "execution_count": 82,
   "metadata": {},
   "outputs": [],
   "source": [
    "v = np.zeros((len(df_temp), len(genres)))\n",
    "for i, g in enumerate(gg):\n",
    "    for j in g:\n",
    "        v[i, j] = 1\n",
    "b = np.hstack([df_temp[\"movieId\"].values.reshape(-1, 1), v])"
   ]
  },
  {
   "cell_type": "code",
   "execution_count": 147,
   "metadata": {},
   "outputs": [],
   "source": [
    "pd.DataFrame(b, columns=[\"movieId\"] + list(genres_dict.keys())).astype(int).to_csv(\"movie_genres.csv\", index=False)"
   ]
  },
  {
   "cell_type": "code",
   "execution_count": 97,
   "metadata": {},
   "outputs": [],
   "source": [
    "pd.DataFrame(genres_dict.items(), columns=[\"genres_name\", \"genres_id\"]).to_csv(\"movie_genres_dict.csv\", index=False)"
   ]
  },
  {
   "cell_type": "code",
   "execution_count": null,
   "metadata": {},
   "outputs": [],
   "source": []
  }
 ],
 "metadata": {
  "kernelspec": {
   "display_name": "Python 3",
   "language": "python",
   "name": "python3"
  },
  "language_info": {
   "codemirror_mode": {
    "name": "ipython",
    "version": 3
   },
   "file_extension": ".py",
   "mimetype": "text/x-python",
   "name": "python",
   "nbconvert_exporter": "python",
   "pygments_lexer": "ipython3",
   "version": "3.6.10"
  }
 },
 "nbformat": 4,
 "nbformat_minor": 4
}
