{
 "cells": [
  {
   "cell_type": "code",
   "execution_count": 1,
   "metadata": {},
   "outputs": [],
   "source": [
    "import numpy as np\n",
    "import pandas as pd\n",
    "import torch\n",
    "from pathlib import Path\n",
    "from collections import defaultdict\n",
    "from itertools import combinations\n",
    "from tqdm.notebook import tqdm_notebook\n",
    "import pickle\n",
    "import seaborn as sns\n",
    "import matplotlib.pyplot as plt\n",
    "import re"
   ]
  },
  {
   "cell_type": "code",
   "execution_count": 3,
   "metadata": {},
   "outputs": [],
   "source": [
    "p_data = Path(\"D:/Datas/kaggle_movie/\")"
   ]
  },
  {
   "cell_type": "code",
   "execution_count": 3,
   "metadata": {},
   "outputs": [],
   "source": [
    "df = pd.read_csv(p_data / \"ratings_small.csv\")"
   ]
  },
  {
   "cell_type": "markdown",
   "metadata": {},
   "source": [
    "movie를 node로 한 관계"
   ]
  },
  {
   "cell_type": "code",
   "execution_count": 4,
   "metadata": {},
   "outputs": [
    {
     "data": {
      "application/vnd.jupyter.widget-view+json": {
       "model_id": "a279a9f8cd78410b8b148a28efd282b8",
       "version_major": 2,
       "version_minor": 0
      },
      "text/plain": [
       "HBox(children=(FloatProgress(value=0.0, max=671.0), HTML(value='')))"
      ]
     },
     "metadata": {},
     "output_type": "display_data"
    },
    {
     "name": "stdout",
     "output_type": "stream",
     "text": [
      "\n"
     ]
    }
   ],
   "source": [
    "movie_nodes_meta = defaultdict(dict)\n",
    "movie_nodes = []\n",
    "unique_uid = np.unique(df.iloc[:, 0].values)\n",
    "for uid in tqdm_notebook(unique_uid):\n",
    "    datas = df.loc[df[\"userId\"] == uid, :].values[:, :-1]\n",
    "    movies = datas[:, 1].astype(np.int)\n",
    "    nodes = list(combinations(movies, 2))\n",
    "    movie_nodes.extend(nodes)\n",
    "    meta = list(zip(*[movies, list(map(lambda x: (int(x[0]), x[1]), datas[:, (0, 2)].tolist()))]))\n",
    "    for node, x in meta:\n",
    "        if movie_nodes_meta[node].get(\"ratings\") is None:\n",
    "            movie_nodes_meta[node][\"ratings\"] = list()\n",
    "            movie_nodes_meta[node][\"count\"] = 0\n",
    "        movie_nodes_meta[node][\"ratings\"].append(x)\n",
    "        movie_nodes_meta[node][\"count\"] += 1\n",
    "        \n",
    "df_medge = pd.DataFrame(movie_nodes)\n",
    "df_medge.to_csv(p_data / \"movie_edges.csv\", index=False)\n",
    "with (p_data / \"movie_nodes_meta.pickle\").open(\"wb\") as file:\n",
    "    pickle.dump(movie_nodes_meta, file)"
   ]
  },
  {
   "cell_type": "markdown",
   "metadata": {},
   "source": [
    "user를 node로 한 관계"
   ]
  },
  {
   "cell_type": "code",
   "execution_count": 24,
   "metadata": {
    "scrolled": true
   },
   "outputs": [
    {
     "data": {
      "application/vnd.jupyter.widget-view+json": {
       "model_id": "fbd6fe75a8d8422d915ec94aa60d2294",
       "version_major": 2,
       "version_minor": 0
      },
      "text/plain": [
       "HBox(children=(FloatProgress(value=0.0, max=9066.0), HTML(value='')))"
      ]
     },
     "metadata": {},
     "output_type": "display_data"
    },
    {
     "name": "stdout",
     "output_type": "stream",
     "text": [
      "\n"
     ]
    }
   ],
   "source": [
    "user_nodes_meta = defaultdict(dict)\n",
    "user_nodes = []\n",
    "unique_mid = np.unique(df.iloc[:, 1].values)\n",
    "for mid in tqdm_notebook(unique_mid):\n",
    "    datas = df.loc[df[\"movieId\"] == mid, :].values[:, :-1]\n",
    "    users = datas[:, 0].astype(np.int)\n",
    "    nodes = list(combinations(users, 2))\n",
    "    user_nodes.extend(nodes)\n",
    "    meta = list(zip(*[users, list(map(lambda x: (int(x[0]), x[1]), datas[:, (1, 2)].tolist()))]))\n",
    "    for node, x in meta:\n",
    "        if user_nodes_meta[node].get(\"ratings\") is None:\n",
    "            user_nodes_meta[node][\"ratings\"] = list()\n",
    "            user_nodes_meta[node][\"count\"] = 0\n",
    "        user_nodes_meta[node][\"ratings\"].append(x)\n",
    "        user_nodes_meta[node][\"count\"] += 1\n",
    "        \n",
    "df_uedge = pd.DataFrame(user_nodes)\n",
    "df_uedge.to_csv(p_data / \"user_edges.csv\", index=False)\n",
    "with (p_data / \"user_nodes_meta.pickle\").open(\"wb\") as file:\n",
    "    pickle.dump(user_nodes_meta, file)"
   ]
  },
  {
   "cell_type": "markdown",
   "metadata": {},
   "source": [
    "movies_meta.csv 오류 고치기"
   ]
  },
  {
   "cell_type": "code",
   "execution_count": 30,
   "metadata": {
    "scrolled": false
   },
   "outputs": [
    {
     "data": {
      "application/vnd.jupyter.widget-view+json": {
       "model_id": "98ddfd6a79d946899ff3cb6bfc749a9f",
       "version_major": 2,
       "version_minor": 0
      },
      "text/plain": [
       "HBox(children=(FloatProgress(value=0.0, max=91040.0), HTML(value='')))"
      ]
     },
     "metadata": {},
     "output_type": "display_data"
    },
    {
     "name": "stdout",
     "output_type": "stream",
     "text": [
      "\n"
     ]
    }
   ],
   "source": [
    "import csv\n",
    "csv.writer((p_data / \"movies_metadata_temp.tsv\").open(\"w+\", encoding=\"utf-8\"), delimiter=\"\\t\").writerows(\n",
    "    csv.reader((p_data / \"movies_metadata.csv\").open(\"r\", encoding=\"utf-8\")))\n",
    "\n",
    "with (p_data / \"movies_metadata_temp.tsv\").open(\"r\", encoding=\"utf-8\") as file:\n",
    "    datas = file.readlines()\n",
    "    \n",
    "new_datas = {}\n",
    "cols = datas[0].rstrip().split(\"\\t\")\n",
    "n_cols = len(cols)\n",
    "error_ids = []\n",
    "for i, line in tqdm_notebook(enumerate(datas), total=len(datas)):\n",
    "    line = line.rstrip()\n",
    "    if not line:\n",
    "        continue\n",
    "    else:\n",
    "        if len(line.split(\"\\t\")) != n_cols:\n",
    "            error_ids.append(len(new_datas))        \n",
    "        new_datas[len(new_datas)] = line\n",
    "\n",
    "merge_ids = {}\n",
    "temp = []\n",
    "for idx, cur_id in enumerate(error_ids):\n",
    "    if not temp:\n",
    "        start_id = cur_id\n",
    "        merge_ids[start_id] = 0\n",
    "        temp.append(cur_id)\n",
    "        continue\n",
    "    \n",
    "    if cur_id - 1 == temp[-1]:\n",
    "        temp.append(cur_id)\n",
    "    if idx+1 == len(error_ids):\n",
    "        merge_ids[start_id] = temp\n",
    "    elif (error_ids[idx+1] - cur_id) >= 2:\n",
    "        merge_ids[start_id] = temp\n",
    "        temp = []\n",
    "        \n",
    "for start_id, mids in merge_ids.items():\n",
    "    line = \"\"\n",
    "    for idx in mids:\n",
    "        l = new_datas.pop(idx)\n",
    "        line += l\n",
    "    new_datas[start_id] = line\n",
    "    \n",
    "new_datas = [x.split(\"\\t\") for x in list(zip(*sorted(new_datas.items(), key=lambda x: x[0])))[1]]\n",
    "\n",
    "df_meta = pd.DataFrame(new_datas[1:], columns=new_datas[0])\n",
    "df_meta.to_csv((p_data / \"movies_metadata.tsv\"), sep=\"\\t\", index=False)"
   ]
  },
  {
   "cell_type": "code",
   "execution_count": null,
   "metadata": {},
   "outputs": [],
   "source": [
    "with (p_data / \"movie_nodes_meta.pickle\").open(\"wb\") as file:\n",
    "    movie_nodes_meta = pickle.load(file)\n",
    "\n",
    "with (p_data / \"user_nodes_meta.pickle\").open(\"wb\") as file:\n",
    "    user_nodes_meta = pickle.load(file)"
   ]
  },
  {
   "cell_type": "code",
   "execution_count": 689,
   "metadata": {},
   "outputs": [],
   "source": [
    "df_meta = pd.read_csv((p_data / \"movies_metadata.tsv\"), sep=\"\\t\")\n",
    "df_meta.drop(index=df_meta[df_meta[\"imdb_id\"].isna()].index, inplace=True)\n",
    "df_meta[\"imdbId\"] = df_meta[\"imdb_id\"].str.slice(start=3).astype(np.int64)\n",
    "\n",
    "f_change = lambda s: \"|\".join([tuple(dict(x).values())[1] for x in eval(s)])\n",
    "df_meta[\"genres\"] = df_meta[\"genres\"].apply(f_change)\n",
    "df_meta[\"genres_main\"] = df_meta[\"genres\"].str.split(\"|\", 1, expand=True)[0].values\n",
    "\n",
    "df_meta[\"spoken_languages\"] = df_meta[\"spoken_languages\"].apply(f_change)\n",
    "\n",
    "df_meta[\"production_countries\"] = df_meta[\"production_countries\"].str.strip('\"').str.replace(\"\\\"\\\"Cote D'Ivoire\\\"\\\"\", \"'Cote D Ivoire'\").str.replace(\"\\\"\\\"Lao People's Democratic Republic\\\"\\\"\", \"'Lao People s Democratic Republic'\")\n",
    "df_meta[\"production_countries\"] = df_meta[\"production_countries\"].apply(f_change)\n",
    "df_meta[\"production_countries_main\"] = df_meta[\"production_countries\"].str.split(\"|\", 1, expand=True)[0].values"
   ]
  },
  {
   "cell_type": "markdown",
   "metadata": {},
   "source": [
    "adult ratio"
   ]
  },
  {
   "cell_type": "code",
   "execution_count": 690,
   "metadata": {},
   "outputs": [
    {
     "data": {
      "image/png": "[encoded data removed]",
      "text/plain": [
       "<Figure size 432x288 with 1 Axes>"
      ]
     },
     "metadata": {
      "needs_background": "light"
     },
     "output_type": "display_data"
    }
   ],
   "source": [
    "df_plot = df_meta[\"adult\"].value_counts(normalize=True).reset_index()\n",
    "df_plot[\"adult\"] = df_plot[\"adult\"] * 100\n",
    "g = sns.barplot(x=\"index\", y=\"adult\", data=df_plot)\n",
    "g.set_ylim(0,120)\n",
    "\n",
    "for p in g.patches:\n",
    "    txt = str(p.get_height().round(2)) + '%'\n",
    "    txt_x = p.get_x() + 0.3\n",
    "    txt_h = p.get_height() + 3\n",
    "    g.text(txt_x, txt_h, txt)"
   ]
  },
  {
   "cell_type": "code",
   "execution_count": 691,
   "metadata": {
    "scrolled": false
   },
   "outputs": [
    {
     "data": {
      "image/png": "[encoded data removed]",
      "text/plain": [
       "<Figure size 432x288 with 1 Axes>"
      ]
     },
     "metadata": {
      "needs_background": "light"
     },
     "output_type": "display_data"
    }
   ],
   "source": [
    "df_plot = df_meta[\"status\"].value_counts(normalize=True).reset_index()\n",
    "df_plot[\"status\"] = df_plot[\"status\"] * 100\n",
    "g = sns.barplot(x=\"status\", y=\"index\", data=df_plot)\n",
    "g.set_xlim(0,120)\n",
    "for p in g.patches:\n",
    "    txt = str(p.get_width().round(2)) + '%'\n",
    "    txt_y = p.get_y() + 0.5\n",
    "    txt_w = p.get_width() + 3\n",
    "    g.text(txt_w, txt_y, txt)"
   ]
  },
  {
   "cell_type": "code",
   "execution_count": 692,
   "metadata": {},
   "outputs": [
    {
     "data": {
      "image/png": "[encoded data removed]",
      "text/plain": [
       "<Figure size 432x288 with 1 Axes>"
      ]
     },
     "metadata": {
      "needs_background": "light"
     },
     "output_type": "display_data"
    }
   ],
   "source": [
    "sns.distplot(df_meta.loc[df_meta[\"runtime\"] < 210, \"runtime\"])\n",
    "plt.title(\"Run Time (lower then 210 min)\")\n",
    "plt.show()"
   ]
  },
  {
   "cell_type": "markdown",
   "metadata": {},
   "source": [
    "vote_average distribution & vote_counts distribution by main genres"
   ]
  },
  {
   "cell_type": "code",
   "execution_count": 693,
   "metadata": {},
   "outputs": [
    {
     "data": {
      "image/png": "[encoded data removed]",
      "text/plain": [
       "<Figure size 864x288 with 2 Axes>"
      ]
     },
     "metadata": {
      "needs_background": "light"
     },
     "output_type": "display_data"
    }
   ],
   "source": [
    "df_plot = df_meta.loc[:, (\"vote_count\", \"vote_average\", \"genres_main\")]\n",
    "\n",
    "fig, axes = plt.subplots(1, 2, figsize=(12, 4))\n",
    "sns.distplot(df_plot[\"vote_average\"], ax=axes[0])\n",
    "sns.stripplot(x=\"vote_count\", y=\"genres_main\", data=df_plot, ax=axes[1])\n",
    "plt.tight_layout()\n",
    "plt.show()"
   ]
  },
  {
   "cell_type": "markdown",
   "metadata": {},
   "source": [
    "popularity"
   ]
  },
  {
   "cell_type": "code",
   "execution_count": 694,
   "metadata": {
    "scrolled": true
   },
   "outputs": [
    {
     "data": {
      "image/png": "[encoded data removed]",
      "text/plain": [
       "<Figure size 864x288 with 2 Axes>"
      ]
     },
     "metadata": {
      "needs_background": "light"
     },
     "output_type": "display_data"
    }
   ],
   "source": [
    "df_plot = df_meta.loc[:, (\"popularity\", \"production_countries_main\", \"genres_main\")]\n",
    "idx = df_plot[\"production_countries_main\"].value_counts() > 500\n",
    "\n",
    "fig, axes = plt.subplots(1, 2, figsize=(12, 4))\n",
    "sns.stripplot(x=\"popularity\", y=\"production_countries_main\", \n",
    "              data=df_plot.loc[df_plot[\"production_countries_main\"].isin(idx.index[idx]), :], ax=axes[0])\n",
    "sns.stripplot(x=\"popularity\", y=\"genres_main\", data=df_plot, ax=axes[1])\n",
    "plt.tight_layout()\n",
    "plt.show()"
   ]
  },
  {
   "cell_type": "markdown",
   "metadata": {},
   "source": [
    "movie ages"
   ]
  },
  {
   "cell_type": "code",
   "execution_count": 695,
   "metadata": {},
   "outputs": [
    {
     "data": {
      "text/plain": [
       "<matplotlib.axes._subplots.AxesSubplot at 0x25fa3b3c208>"
      ]
     },
     "execution_count": 695,
     "metadata": {},
     "output_type": "execute_result"
    },
    {
     "data": {
      "image/png": "[encoded data removed]",
      "text/plain": [
       "<Figure size 432x288 with 1 Axes>"
      ]
     },
     "metadata": {
      "needs_background": "light"
     },
     "output_type": "display_data"
    }
   ],
   "source": [
    "df_plot = df_meta[\"release_date\"].str.slice(0, 4)\n",
    "sns.distplot(df_plot[~df_plot.isna()].astype(int))"
   ]
  },
  {
   "cell_type": "code",
   "execution_count": 696,
   "metadata": {},
   "outputs": [],
   "source": [
    "def movie_age(x):\n",
    "    if pd.isnull(x):\n",
    "        return None\n",
    "    year = int(x)\n",
    "    if (year < 1900): return \"-1900\"\n",
    "    elif (1900 <= year <= 1975): return \"1900-1975\"\n",
    "    elif (1976 <= year <= 1995): return \"1976-1995\"\n",
    "    elif (1996 <= year <= 2003): return \"1996-2003\"\n",
    "    elif (2004 <= year <= 2009): return \"2004-2009\"\n",
    "    elif (2010 <= year): return \"2010-\"\n",
    "    else: return 0"
   ]
  },
  {
   "cell_type": "code",
   "execution_count": 697,
   "metadata": {},
   "outputs": [],
   "source": [
    "df_meta[\"release_cate\"] = df_meta[\"release_date\"].str.slice(0, 4).apply(movie_age)"
   ]
  },
  {
   "cell_type": "code",
   "execution_count": 698,
   "metadata": {},
   "outputs": [
    {
     "name": "stdout",
     "output_type": "stream",
     "text": [
      "Max: Popular Movie: \n",
      "         title                             genres  vote_average\n",
      "30698  Minions  Family|Animation|Adventure|Comedy           6.4\n"
     ]
    },
    {
     "data": {
      "image/png": "[encoded data removed]",
      "text/plain": [
       "<Figure size 864x576 with 2 Axes>"
      ]
     },
     "metadata": {
      "needs_background": "light"
     },
     "output_type": "display_data"
    }
   ],
   "source": [
    "df_plot = df_meta.loc[:, (\"popularity\", \"vote_average\", \"release_cate\")].sort_values(\"release_cate\")\n",
    "\n",
    "fig, axes = plt.subplots(2, 1, figsize=(12, 8))\n",
    "sns.stripplot(x=\"popularity\", y=\"release_cate\", data=df_plot, ax=axes[0])\n",
    "sns.stripplot(x=\"vote_average\", y=\"release_cate\", data=df_plot, ax=axes[1])\n",
    "\n",
    "print(\"Max: Popular Movie: \")\n",
    "print(df_meta.loc[df_meta[\"popularity\"] == df_plot[\"popularity\"].max(), (\"title\", \"genres\", \"vote_average\")])\n",
    "plt.show()"
   ]
  },
  {
   "cell_type": "code",
   "execution_count": 699,
   "metadata": {},
   "outputs": [],
   "source": [
    "cols = ['adult', 'genres', 'overview', 'popularity', 'production_countries',\n",
    "        'revenue', 'runtime', 'spoken_languages', 'status' , 'title', 'vote_average', \n",
    "        'vote_count', 'imdbId', 'release_cate']\n",
    "df_link = pd.read_csv(p_data / \"links_small.csv\")"
   ]
  },
  {
   "cell_type": "code",
   "execution_count": 703,
   "metadata": {},
   "outputs": [
    {
     "data": {
      "text/html": [
       "<div>\n",
       "<style scoped>\n",
       "    .dataframe tbody tr th:only-of-type {\n",
       "        vertical-align: middle;\n",
       "    }\n",
       "\n",
       "    .dataframe tbody tr th {\n",
       "        vertical-align: top;\n",
       "    }\n",
       "\n",
       "    .dataframe thead th {\n",
       "        text-align: right;\n",
       "    }\n",
       "</style>\n",
       "<table border=\"1\" class=\"dataframe\">\n",
       "  <thead>\n",
       "    <tr style=\"text-align: right;\">\n",
       "      <th></th>\n",
       "      <th>movieId</th>\n",
       "      <th>imdbId</th>\n",
       "      <th>title</th>\n",
       "      <th>release_cate</th>\n",
       "      <th>genres</th>\n",
       "      <th>runtime</th>\n",
       "      <th>production_countries</th>\n",
       "      <th>spoken_languages</th>\n",
       "      <th>status</th>\n",
       "      <th>adult</th>\n",
       "      <th>popularity</th>\n",
       "      <th>vote_average</th>\n",
       "      <th>vote_count</th>\n",
       "      <th>revenue</th>\n",
       "      <th>overview</th>\n",
       "    </tr>\n",
       "  </thead>\n",
       "  <tbody>\n",
       "    <tr>\n",
       "      <th>0</th>\n",
       "      <td>1</td>\n",
       "      <td>114709</td>\n",
       "      <td>Toy Story</td>\n",
       "      <td>1976-1995</td>\n",
       "      <td>Animation|Comedy|Family</td>\n",
       "      <td>81.0</td>\n",
       "      <td>United States of America</td>\n",
       "      <td>English</td>\n",
       "      <td>Released</td>\n",
       "      <td>False</td>\n",
       "      <td>21.946943</td>\n",
       "      <td>7.7</td>\n",
       "      <td>5415</td>\n",
       "      <td>373554033</td>\n",
       "      <td>Led by Woody, Andy's toys live happily in his ...</td>\n",
       "    </tr>\n",
       "    <tr>\n",
       "      <th>1</th>\n",
       "      <td>2</td>\n",
       "      <td>113497</td>\n",
       "      <td>Jumanji</td>\n",
       "      <td>1976-1995</td>\n",
       "      <td>Adventure|Fantasy|Family</td>\n",
       "      <td>104.0</td>\n",
       "      <td>United States of America</td>\n",
       "      <td>English|Français</td>\n",
       "      <td>Released</td>\n",
       "      <td>False</td>\n",
       "      <td>17.015539</td>\n",
       "      <td>6.9</td>\n",
       "      <td>2413</td>\n",
       "      <td>262797249</td>\n",
       "      <td>When siblings Judy and Peter discover an encha...</td>\n",
       "    </tr>\n",
       "    <tr>\n",
       "      <th>2</th>\n",
       "      <td>3</td>\n",
       "      <td>113228</td>\n",
       "      <td>Grumpier Old Men</td>\n",
       "      <td>1976-1995</td>\n",
       "      <td>Romance|Comedy</td>\n",
       "      <td>101.0</td>\n",
       "      <td>United States of America</td>\n",
       "      <td>English</td>\n",
       "      <td>Released</td>\n",
       "      <td>False</td>\n",
       "      <td>11.712900</td>\n",
       "      <td>6.5</td>\n",
       "      <td>92</td>\n",
       "      <td>0</td>\n",
       "      <td>A family wedding reignites the ancient feud be...</td>\n",
       "    </tr>\n",
       "    <tr>\n",
       "      <th>3</th>\n",
       "      <td>4</td>\n",
       "      <td>114885</td>\n",
       "      <td>Waiting to Exhale</td>\n",
       "      <td>1976-1995</td>\n",
       "      <td>Comedy|Drama|Romance</td>\n",
       "      <td>127.0</td>\n",
       "      <td>United States of America</td>\n",
       "      <td>English</td>\n",
       "      <td>Released</td>\n",
       "      <td>False</td>\n",
       "      <td>3.859495</td>\n",
       "      <td>6.1</td>\n",
       "      <td>34</td>\n",
       "      <td>81452156</td>\n",
       "      <td>\"Cheated on, mistreated and stepped on, the wo...</td>\n",
       "    </tr>\n",
       "    <tr>\n",
       "      <th>4</th>\n",
       "      <td>5</td>\n",
       "      <td>113041</td>\n",
       "      <td>Father of the Bride Part II</td>\n",
       "      <td>1976-1995</td>\n",
       "      <td>Comedy</td>\n",
       "      <td>106.0</td>\n",
       "      <td>United States of America</td>\n",
       "      <td>English</td>\n",
       "      <td>Released</td>\n",
       "      <td>False</td>\n",
       "      <td>8.387519</td>\n",
       "      <td>5.7</td>\n",
       "      <td>173</td>\n",
       "      <td>76578911</td>\n",
       "      <td>Just when George Banks has recovered from his ...</td>\n",
       "    </tr>\n",
       "  </tbody>\n",
       "</table>\n",
       "</div>"
      ],
      "text/plain": [
       "   movieId  imdbId                        title release_cate  \\\n",
       "0        1  114709                    Toy Story    1976-1995   \n",
       "1        2  113497                      Jumanji    1976-1995   \n",
       "2        3  113228             Grumpier Old Men    1976-1995   \n",
       "3        4  114885            Waiting to Exhale    1976-1995   \n",
       "4        5  113041  Father of the Bride Part II    1976-1995   \n",
       "\n",
       "                     genres  runtime      production_countries  \\\n",
       "0   Animation|Comedy|Family     81.0  United States of America   \n",
       "1  Adventure|Fantasy|Family    104.0  United States of America   \n",
       "2            Romance|Comedy    101.0  United States of America   \n",
       "3      Comedy|Drama|Romance    127.0  United States of America   \n",
       "4                    Comedy    106.0  United States of America   \n",
       "\n",
       "   spoken_languages    status  adult  popularity  vote_average  vote_count  \\\n",
       "0           English  Released  False   21.946943           7.7        5415   \n",
       "1  English|Français  Released  False   17.015539           6.9        2413   \n",
       "2           English  Released  False   11.712900           6.5          92   \n",
       "3           English  Released  False    3.859495           6.1          34   \n",
       "4           English  Released  False    8.387519           5.7         173   \n",
       "\n",
       "     revenue                                           overview  \n",
       "0  373554033  Led by Woody, Andy's toys live happily in his ...  \n",
       "1  262797249  When siblings Judy and Peter discover an encha...  \n",
       "2          0  A family wedding reignites the ancient feud be...  \n",
       "3   81452156  \"Cheated on, mistreated and stepped on, the wo...  \n",
       "4   76578911  Just when George Banks has recovered from his ...  "
      ]
     },
     "execution_count": 703,
     "metadata": {},
     "output_type": "execute_result"
    }
   ],
   "source": [
    "df_meta2 = pd.merge(df_meta.loc[:, cols], df_link.iloc[:, :-1], on=\"imdbId\")\n",
    "cols2 = ['movieId', 'imdbId', 'title', 'release_cate', 'genres', 'runtime', 'production_countries', \n",
    "        'spoken_languages', 'status', 'adult', 'popularity', 'vote_average', 'vote_count', 'revenue', \n",
    "         'overview']\n",
    "df_meta2 = df_meta2.loc[:, cols2]\n",
    "df_meta2.head()"
   ]
  },
  {
   "cell_type": "code",
   "execution_count": 705,
   "metadata": {},
   "outputs": [],
   "source": [
    "df_meta2.to_csv(p_data / \"preprocessed_movie_meta.tsv\", sep=\"\\t\")"
   ]
  },
  {
   "cell_type": "markdown",
   "metadata": {},
   "source": [
    "노드의 특성\n",
    "* adult, genres, title\n",
    "\n",
    "node 관계 설정\n",
    "* 유저가 봤던 영화들은 서로 undirect edge 로 연결\n",
    "* 노드의 크기는 영화를 봤던 크기"
   ]
  },
  {
   "cell_type": "code",
   "execution_count": null,
   "metadata": {},
   "outputs": [],
   "source": []
  },
  {
   "cell_type": "code",
   "execution_count": 18,
   "metadata": {
    "scrolled": true
   },
   "outputs": [],
   "source": [
    "import dash\n",
    "import dash_core_components as dcc\n",
    "import dash_html_components as html\n",
    "import networkx as nx\n",
    "import plotly.graph_objs as go\n",
    "import pandas as pd\n",
    "from colour import Color\n",
    "from datetime import datetime\n",
    "from textwrap import dedent as d\n",
    "import json"
   ]
  },
  {
   "cell_type": "code",
   "execution_count": 23,
   "metadata": {},
   "outputs": [],
   "source": [
    "yearRange = [2010, 2019]\n",
    "AccountToSearch = \"A0001\""
   ]
  },
  {
   "cell_type": "code",
   "execution_count": 24,
   "metadata": {
    "scrolled": true
   },
   "outputs": [
    {
     "name": "stderr",
     "output_type": "stream",
     "text": [
      "C:\\Users\\simon\\miniconda3\\lib\\site-packages\\ipykernel_launcher.py:8: SettingWithCopyWarning: \n",
      "A value is trying to be set on a copy of a slice from a DataFrame\n",
      "\n",
      "See the caveats in the documentation: https://pandas.pydata.org/pandas-docs/stable/user_guide/indexing.html#returning-a-view-versus-a-copy\n",
      "  \n"
     ]
    }
   ],
   "source": [
    "edge1 = pd.read_csv('edge1.csv')\n",
    "node1 = pd.read_csv('node1.csv')\n",
    "\n",
    "# filter the record by datetime, to enable interactive control through the input box\n",
    "edge1['Datetime'] = \"\" # add empty Datetime column to edge1 dataframe\n",
    "accountSet=set() # contain unique account\n",
    "for index in range(0,len(edge1)):\n",
    "    edge1['Datetime'][index] = datetime.strptime(edge1['Date'][index], '%d/%m/%Y')\n",
    "    if edge1['Datetime'][index].year<yearRange[0] or edge1['Datetime'][index].year>yearRange[1]:\n",
    "        edge1.drop(axis=0, index=index, inplace=True)\n",
    "        continue\n",
    "    accountSet.add(edge1['Source'][index])\n",
    "    accountSet.add(edge1['Target'][index])\n",
    "\n",
    "# to define the centric point of the networkx layout\n",
    "shells=[]\n",
    "shell1=[]\n",
    "shell1.append(AccountToSearch)\n",
    "shells.append(shell1)\n",
    "shell2=[]\n",
    "for ele in accountSet:\n",
    "    if ele!=AccountToSearch:\n",
    "        shell2.append(ele)\n",
    "shells.append(shell2)\n",
    "\n",
    "\n",
    "G = nx.from_pandas_edgelist(edge1, 'Source', 'Target', ['Source', 'Target', 'TransactionAmt', 'Date'], create_using=nx.MultiDiGraph())\n",
    "nx.set_node_attributes(G, node1.set_index('Account')['CustomerName'].to_dict(), 'CustomerName')\n",
    "nx.set_node_attributes(G, node1.set_index('Account')['Type'].to_dict(), 'Type')\n",
    "# pos = nx.layout.spring_layout(G)\n",
    "# pos = nx.layout.circular_layout(G)\n",
    "# nx.layout.shell_layout only works for more than 3 nodes\n",
    "if len(shell2)>1:\n",
    "    pos = nx.drawing.layout.shell_layout(G, shells)\n",
    "else:\n",
    "    pos = nx.drawing.layout.spring_layout(G)\n",
    "for node in G.nodes:\n",
    "    G.nodes[node]['pos'] = list(pos[node])"
   ]
  },
  {
   "cell_type": "code",
   "execution_count": null,
   "metadata": {},
   "outputs": [],
   "source": [
    "cols = [\"src\", \"trg\", \"count\", \"\"]"
   ]
  },
  {
   "cell_type": "code",
   "execution_count": 27,
   "metadata": {
    "scrolled": true
   },
   "outputs": [
    {
     "data": {
      "image/png": "[encoded data removed]",
      "text/plain": [
       "<Figure size 432x288 with 1 Axes>"
      ]
     },
     "metadata": {},
     "output_type": "display_data"
    }
   ],
   "source": [
    "nx.draw(G, with_labels=True)\n",
    "plt.show()"
   ]
  },
  {
   "cell_type": "code",
   "execution_count": 48,
   "metadata": {},
   "outputs": [
    {
     "data": {
      "text/plain": [
       "Index(['adult', 'belongs_to_collection', 'budget', 'genres', 'homepage', 'id',\n",
       "       'imdb_id', 'original_language', 'original_title', 'overview',\n",
       "       'popularity', 'poster_path', 'production_companies',\n",
       "       'production_countries', 'release_date', 'revenue', 'runtime',\n",
       "       'spoken_languages', 'status', 'tagline', 'title', 'video',\n",
       "       'vote_average', 'vote_count'],\n",
       "      dtype='object')"
      ]
     },
     "execution_count": 48,
     "metadata": {},
     "output_type": "execute_result"
    }
   ],
   "source": [
    "df_meta.columns"
   ]
  },
  {
   "cell_type": "code",
   "execution_count": null,
   "metadata": {},
   "outputs": [],
   "source": [
    "cols = [\"adult\", \"genres\", \"title\", \"release_date\", \"revenue\", \"vote_count\", \"vote_average\"]"
   ]
  },
  {
   "cell_type": "code",
   "execution_count": 51,
   "metadata": {
    "scrolled": true
   },
   "outputs": [
    {
     "data": {
      "text/plain": [
       "\"[{'id': 16, 'name': 'Animation'}, {'id': 35, 'name': 'Comedy'}, {'id': 10751, 'name': 'Family'}]\""
      ]
     },
     "execution_count": 51,
     "metadata": {},
     "output_type": "execute_result"
    }
   ],
   "source": [
    "df_meta[\"genres\"][0]"
   ]
  },
  {
   "cell_type": "code",
   "execution_count": 87,
   "metadata": {
    "scrolled": true
   },
   "outputs": [
    {
     "data": {
      "text/plain": [
       "adult                                                                False\n",
       "belongs_to_collection                                                  NaN\n",
       "budget                                                                   0\n",
       "genres                   [{'id': 35, 'name': 'Comedy'}, {'id': 18, 'nam...\n",
       "homepage                                                               NaN\n",
       "id                                                                   27455\n",
       "imdb_id                                                          tt0166195\n",
       "original_language                                                       en\n",
       "original_title                                                     Foolish\n",
       "overview                 'Foolish' Waise is a talented comedian with a ...\n",
       "popularity                                                        0.431822\n",
       "poster_path                               /2uOoAVhjKvKlI923SUnUkL7lO9H.jpg\n",
       "production_companies     [{'name': 'No Limit Films', 'id': 16718}, {'na...\n",
       "production_countries     [{'iso_3166_1': 'US', 'name': 'United States o...\n",
       "release_date                                                    1999-04-09\n",
       "revenue                                                          6.034e+06\n",
       "runtime                                                                 84\n",
       "spoken_languages                  [{'iso_639_1': 'en', 'name': 'English'}]\n",
       "status                                                            Released\n",
       "tagline                           This big mouth is ready for the big time\n",
       "title                                                              Foolish\n",
       "video                                                                False\n",
       "vote_average                                                           6.3\n",
       "vote_count                                                               3\n",
       "Name: 2471, dtype: object"
      ]
     },
     "execution_count": 87,
     "metadata": {},
     "output_type": "execute_result"
    }
   ],
   "source": [
    "df_meta.iloc[2472]"
   ]
  },
  {
   "cell_type": "code",
   "execution_count": 86,
   "metadata": {},
   "outputs": [
    {
     "data": {
      "text/html": [
       "<div>\n",
       "<style scoped>\n",
       "    .dataframe tbody tr th:only-of-type {\n",
       "        vertical-align: middle;\n",
       "    }\n",
       "\n",
       "    .dataframe tbody tr th {\n",
       "        vertical-align: top;\n",
       "    }\n",
       "\n",
       "    .dataframe thead th {\n",
       "        text-align: right;\n",
       "    }\n",
       "</style>\n",
       "<table border=\"1\" class=\"dataframe\">\n",
       "  <thead>\n",
       "    <tr style=\"text-align: right;\">\n",
       "      <th></th>\n",
       "      <th>adult</th>\n",
       "      <th>belongs_to_collection</th>\n",
       "      <th>budget</th>\n",
       "      <th>genres</th>\n",
       "      <th>homepage</th>\n",
       "      <th>id</th>\n",
       "      <th>imdb_id</th>\n",
       "      <th>original_language</th>\n",
       "      <th>original_title</th>\n",
       "      <th>overview</th>\n",
       "      <th>...</th>\n",
       "      <th>release_date</th>\n",
       "      <th>revenue</th>\n",
       "      <th>runtime</th>\n",
       "      <th>spoken_languages</th>\n",
       "      <th>status</th>\n",
       "      <th>tagline</th>\n",
       "      <th>title</th>\n",
       "      <th>video</th>\n",
       "      <th>vote_average</th>\n",
       "      <th>vote_count</th>\n",
       "    </tr>\n",
       "  </thead>\n",
       "  <tbody>\n",
       "    <tr>\n",
       "      <th>19730</th>\n",
       "      <td>- Written by Ørnås</td>\n",
       "      <td>0.065736</td>\n",
       "      <td>/ff9qCepilowshEtG2GYWwzt2bs4.jpg</td>\n",
       "      <td>[{'name': 'Carousel Productions', 'id': 11176}...</td>\n",
       "      <td>[{'iso_3166_1': 'CA', 'name': 'Canada'}, {'iso...</td>\n",
       "      <td>1997-08-20</td>\n",
       "      <td>0</td>\n",
       "      <td>104.0</td>\n",
       "      <td>[{'iso_639_1': 'en', 'name': 'English'}]</td>\n",
       "      <td>Released</td>\n",
       "      <td>...</td>\n",
       "      <td>1</td>\n",
       "      <td>NaN</td>\n",
       "      <td>NaN</td>\n",
       "      <td>NaN</td>\n",
       "      <td>NaN</td>\n",
       "      <td>NaN</td>\n",
       "      <td>NaN</td>\n",
       "      <td>NaN</td>\n",
       "      <td>NaN</td>\n",
       "      <td>NaN</td>\n",
       "    </tr>\n",
       "    <tr>\n",
       "      <th>29503</th>\n",
       "      <td>Rune Balot goes to a casino connected to the ...</td>\n",
       "      <td>1.931659</td>\n",
       "      <td>/zV8bHuSL6WXoD6FWogP9j4x80bL.jpg</td>\n",
       "      <td>[{'name': 'Aniplex', 'id': 2883}, {'name': 'Go...</td>\n",
       "      <td>[{'iso_3166_1': 'US', 'name': 'United States o...</td>\n",
       "      <td>2012-09-29</td>\n",
       "      <td>0</td>\n",
       "      <td>68.0</td>\n",
       "      <td>[{'iso_639_1': 'ja', 'name': '日本語'}]</td>\n",
       "      <td>Released</td>\n",
       "      <td>...</td>\n",
       "      <td>12</td>\n",
       "      <td>NaN</td>\n",
       "      <td>NaN</td>\n",
       "      <td>NaN</td>\n",
       "      <td>NaN</td>\n",
       "      <td>NaN</td>\n",
       "      <td>NaN</td>\n",
       "      <td>NaN</td>\n",
       "      <td>NaN</td>\n",
       "      <td>NaN</td>\n",
       "    </tr>\n",
       "    <tr>\n",
       "      <th>35587</th>\n",
       "      <td>Avalanche Sharks tells the story of a bikini ...</td>\n",
       "      <td>2.185485</td>\n",
       "      <td>/zaSf5OG7V8X8gqFvly88zDdRm46.jpg</td>\n",
       "      <td>[{'name': 'Odyssey Media', 'id': 17161}, {'nam...</td>\n",
       "      <td>[{'iso_3166_1': 'CA', 'name': 'Canada'}]</td>\n",
       "      <td>2014-01-01</td>\n",
       "      <td>0</td>\n",
       "      <td>82.0</td>\n",
       "      <td>[{'iso_639_1': 'en', 'name': 'English'}]</td>\n",
       "      <td>Released</td>\n",
       "      <td>...</td>\n",
       "      <td>22</td>\n",
       "      <td>NaN</td>\n",
       "      <td>NaN</td>\n",
       "      <td>NaN</td>\n",
       "      <td>NaN</td>\n",
       "      <td>NaN</td>\n",
       "      <td>NaN</td>\n",
       "      <td>NaN</td>\n",
       "      <td>NaN</td>\n",
       "      <td>NaN</td>\n",
       "    </tr>\n",
       "  </tbody>\n",
       "</table>\n",
       "<p>3 rows × 24 columns</p>\n",
       "</div>"
      ],
      "text/plain": [
       "                                                   adult  \\\n",
       "19730                                 - Written by Ørnås   \n",
       "29503   Rune Balot goes to a casino connected to the ...   \n",
       "35587   Avalanche Sharks tells the story of a bikini ...   \n",
       "\n",
       "      belongs_to_collection                            budget  \\\n",
       "19730              0.065736  /ff9qCepilowshEtG2GYWwzt2bs4.jpg   \n",
       "29503              1.931659  /zV8bHuSL6WXoD6FWogP9j4x80bL.jpg   \n",
       "35587              2.185485  /zaSf5OG7V8X8gqFvly88zDdRm46.jpg   \n",
       "\n",
       "                                                  genres  \\\n",
       "19730  [{'name': 'Carousel Productions', 'id': 11176}...   \n",
       "29503  [{'name': 'Aniplex', 'id': 2883}, {'name': 'Go...   \n",
       "35587  [{'name': 'Odyssey Media', 'id': 17161}, {'nam...   \n",
       "\n",
       "                                                homepage          id imdb_id  \\\n",
       "19730  [{'iso_3166_1': 'CA', 'name': 'Canada'}, {'iso...  1997-08-20       0   \n",
       "29503  [{'iso_3166_1': 'US', 'name': 'United States o...  2012-09-29       0   \n",
       "35587           [{'iso_3166_1': 'CA', 'name': 'Canada'}]  2014-01-01       0   \n",
       "\n",
       "      original_language                            original_title  overview  \\\n",
       "19730             104.0  [{'iso_639_1': 'en', 'name': 'English'}]  Released   \n",
       "29503              68.0      [{'iso_639_1': 'ja', 'name': '日本語'}]  Released   \n",
       "35587              82.0  [{'iso_639_1': 'en', 'name': 'English'}]  Released   \n",
       "\n",
       "       ... release_date revenue runtime spoken_languages status  tagline  \\\n",
       "19730  ...            1     NaN     NaN              NaN    NaN      NaN   \n",
       "29503  ...           12     NaN     NaN              NaN    NaN      NaN   \n",
       "35587  ...           22     NaN     NaN              NaN    NaN      NaN   \n",
       "\n",
       "       title video vote_average vote_count  \n",
       "19730    NaN   NaN          NaN        NaN  \n",
       "29503    NaN   NaN          NaN        NaN  \n",
       "35587    NaN   NaN          NaN        NaN  \n",
       "\n",
       "[3 rows x 24 columns]"
      ]
     },
     "execution_count": 86,
     "metadata": {},
     "output_type": "execute_result"
    }
   ],
   "source": [
    "df_meta[df_meta[\"imdb_id\"].str.slice(start=3).isin([\"\"])]"
   ]
  },
  {
   "cell_type": "code",
   "execution_count": 78,
   "metadata": {},
   "outputs": [
    {
     "ename": "ValueError",
     "evalue": "invalid literal for int() with base 10: ''",
     "output_type": "error",
     "traceback": [
      "\u001b[1;31m---------------------------------------------------------------------------\u001b[0m",
      "\u001b[1;31mValueError\u001b[0m                                Traceback (most recent call last)",
      "\u001b[1;32m<ipython-input-78-4ca591aadc22>\u001b[0m in \u001b[0;36m<module>\u001b[1;34m\u001b[0m\n\u001b[1;32m----> 1\u001b[1;33m \u001b[0mdf_meta\u001b[0m\u001b[1;33m[\u001b[0m\u001b[1;34m\"imdbId\"\u001b[0m\u001b[1;33m]\u001b[0m \u001b[1;33m=\u001b[0m \u001b[0mdf_meta\u001b[0m\u001b[1;33m[\u001b[0m\u001b[1;34m\"imdb_id\"\u001b[0m\u001b[1;33m]\u001b[0m\u001b[1;33m.\u001b[0m\u001b[0mstr\u001b[0m\u001b[1;33m.\u001b[0m\u001b[0mslice\u001b[0m\u001b[1;33m(\u001b[0m\u001b[0mstart\u001b[0m\u001b[1;33m=\u001b[0m\u001b[1;36m3\u001b[0m\u001b[1;33m)\u001b[0m\u001b[1;33m.\u001b[0m\u001b[0mastype\u001b[0m\u001b[1;33m(\u001b[0m\u001b[0mnp\u001b[0m\u001b[1;33m.\u001b[0m\u001b[0mint\u001b[0m\u001b[1;33m)\u001b[0m\u001b[1;33m\u001b[0m\u001b[1;33m\u001b[0m\u001b[0m\n\u001b[0m",
      "\u001b[1;32m~\\miniconda3\\lib\\site-packages\\pandas\\core\\generic.py\u001b[0m in \u001b[0;36mastype\u001b[1;34m(self, dtype, copy, errors)\u001b[0m\n\u001b[0;32m   5696\u001b[0m         \u001b[1;32melse\u001b[0m\u001b[1;33m:\u001b[0m\u001b[1;33m\u001b[0m\u001b[1;33m\u001b[0m\u001b[0m\n\u001b[0;32m   5697\u001b[0m             \u001b[1;31m# else, only a single dtype is given\u001b[0m\u001b[1;33m\u001b[0m\u001b[1;33m\u001b[0m\u001b[1;33m\u001b[0m\u001b[0m\n\u001b[1;32m-> 5698\u001b[1;33m             \u001b[0mnew_data\u001b[0m \u001b[1;33m=\u001b[0m \u001b[0mself\u001b[0m\u001b[1;33m.\u001b[0m\u001b[0m_data\u001b[0m\u001b[1;33m.\u001b[0m\u001b[0mastype\u001b[0m\u001b[1;33m(\u001b[0m\u001b[0mdtype\u001b[0m\u001b[1;33m=\u001b[0m\u001b[0mdtype\u001b[0m\u001b[1;33m,\u001b[0m \u001b[0mcopy\u001b[0m\u001b[1;33m=\u001b[0m\u001b[0mcopy\u001b[0m\u001b[1;33m,\u001b[0m \u001b[0merrors\u001b[0m\u001b[1;33m=\u001b[0m\u001b[0merrors\u001b[0m\u001b[1;33m)\u001b[0m\u001b[1;33m\u001b[0m\u001b[1;33m\u001b[0m\u001b[0m\n\u001b[0m\u001b[0;32m   5699\u001b[0m             \u001b[1;32mreturn\u001b[0m \u001b[0mself\u001b[0m\u001b[1;33m.\u001b[0m\u001b[0m_constructor\u001b[0m\u001b[1;33m(\u001b[0m\u001b[0mnew_data\u001b[0m\u001b[1;33m)\u001b[0m\u001b[1;33m.\u001b[0m\u001b[0m__finalize__\u001b[0m\u001b[1;33m(\u001b[0m\u001b[0mself\u001b[0m\u001b[1;33m)\u001b[0m\u001b[1;33m\u001b[0m\u001b[1;33m\u001b[0m\u001b[0m\n\u001b[0;32m   5700\u001b[0m \u001b[1;33m\u001b[0m\u001b[0m\n",
      "\u001b[1;32m~\\miniconda3\\lib\\site-packages\\pandas\\core\\internals\\managers.py\u001b[0m in \u001b[0;36mastype\u001b[1;34m(self, dtype, copy, errors)\u001b[0m\n\u001b[0;32m    580\u001b[0m \u001b[1;33m\u001b[0m\u001b[0m\n\u001b[0;32m    581\u001b[0m     \u001b[1;32mdef\u001b[0m \u001b[0mastype\u001b[0m\u001b[1;33m(\u001b[0m\u001b[0mself\u001b[0m\u001b[1;33m,\u001b[0m \u001b[0mdtype\u001b[0m\u001b[1;33m,\u001b[0m \u001b[0mcopy\u001b[0m\u001b[1;33m:\u001b[0m \u001b[0mbool\u001b[0m \u001b[1;33m=\u001b[0m \u001b[1;32mFalse\u001b[0m\u001b[1;33m,\u001b[0m \u001b[0merrors\u001b[0m\u001b[1;33m:\u001b[0m \u001b[0mstr\u001b[0m \u001b[1;33m=\u001b[0m \u001b[1;34m\"raise\"\u001b[0m\u001b[1;33m)\u001b[0m\u001b[1;33m:\u001b[0m\u001b[1;33m\u001b[0m\u001b[1;33m\u001b[0m\u001b[0m\n\u001b[1;32m--> 582\u001b[1;33m         \u001b[1;32mreturn\u001b[0m \u001b[0mself\u001b[0m\u001b[1;33m.\u001b[0m\u001b[0mapply\u001b[0m\u001b[1;33m(\u001b[0m\u001b[1;34m\"astype\"\u001b[0m\u001b[1;33m,\u001b[0m \u001b[0mdtype\u001b[0m\u001b[1;33m=\u001b[0m\u001b[0mdtype\u001b[0m\u001b[1;33m,\u001b[0m \u001b[0mcopy\u001b[0m\u001b[1;33m=\u001b[0m\u001b[0mcopy\u001b[0m\u001b[1;33m,\u001b[0m \u001b[0merrors\u001b[0m\u001b[1;33m=\u001b[0m\u001b[0merrors\u001b[0m\u001b[1;33m)\u001b[0m\u001b[1;33m\u001b[0m\u001b[1;33m\u001b[0m\u001b[0m\n\u001b[0m\u001b[0;32m    583\u001b[0m \u001b[1;33m\u001b[0m\u001b[0m\n\u001b[0;32m    584\u001b[0m     \u001b[1;32mdef\u001b[0m \u001b[0mconvert\u001b[0m\u001b[1;33m(\u001b[0m\u001b[0mself\u001b[0m\u001b[1;33m,\u001b[0m \u001b[1;33m**\u001b[0m\u001b[0mkwargs\u001b[0m\u001b[1;33m)\u001b[0m\u001b[1;33m:\u001b[0m\u001b[1;33m\u001b[0m\u001b[1;33m\u001b[0m\u001b[0m\n",
      "\u001b[1;32m~\\miniconda3\\lib\\site-packages\\pandas\\core\\internals\\managers.py\u001b[0m in \u001b[0;36mapply\u001b[1;34m(self, f, filter, **kwargs)\u001b[0m\n\u001b[0;32m    440\u001b[0m                 \u001b[0mapplied\u001b[0m \u001b[1;33m=\u001b[0m \u001b[0mb\u001b[0m\u001b[1;33m.\u001b[0m\u001b[0mapply\u001b[0m\u001b[1;33m(\u001b[0m\u001b[0mf\u001b[0m\u001b[1;33m,\u001b[0m \u001b[1;33m**\u001b[0m\u001b[0mkwargs\u001b[0m\u001b[1;33m)\u001b[0m\u001b[1;33m\u001b[0m\u001b[1;33m\u001b[0m\u001b[0m\n\u001b[0;32m    441\u001b[0m             \u001b[1;32melse\u001b[0m\u001b[1;33m:\u001b[0m\u001b[1;33m\u001b[0m\u001b[1;33m\u001b[0m\u001b[0m\n\u001b[1;32m--> 442\u001b[1;33m                 \u001b[0mapplied\u001b[0m \u001b[1;33m=\u001b[0m \u001b[0mgetattr\u001b[0m\u001b[1;33m(\u001b[0m\u001b[0mb\u001b[0m\u001b[1;33m,\u001b[0m \u001b[0mf\u001b[0m\u001b[1;33m)\u001b[0m\u001b[1;33m(\u001b[0m\u001b[1;33m**\u001b[0m\u001b[0mkwargs\u001b[0m\u001b[1;33m)\u001b[0m\u001b[1;33m\u001b[0m\u001b[1;33m\u001b[0m\u001b[0m\n\u001b[0m\u001b[0;32m    443\u001b[0m             \u001b[0mresult_blocks\u001b[0m \u001b[1;33m=\u001b[0m \u001b[0m_extend_blocks\u001b[0m\u001b[1;33m(\u001b[0m\u001b[0mapplied\u001b[0m\u001b[1;33m,\u001b[0m \u001b[0mresult_blocks\u001b[0m\u001b[1;33m)\u001b[0m\u001b[1;33m\u001b[0m\u001b[1;33m\u001b[0m\u001b[0m\n\u001b[0;32m    444\u001b[0m \u001b[1;33m\u001b[0m\u001b[0m\n",
      "\u001b[1;32m~\\miniconda3\\lib\\site-packages\\pandas\\core\\internals\\blocks.py\u001b[0m in \u001b[0;36mastype\u001b[1;34m(self, dtype, copy, errors)\u001b[0m\n\u001b[0;32m    623\u001b[0m             \u001b[0mvals1d\u001b[0m \u001b[1;33m=\u001b[0m \u001b[0mvalues\u001b[0m\u001b[1;33m.\u001b[0m\u001b[0mravel\u001b[0m\u001b[1;33m(\u001b[0m\u001b[1;33m)\u001b[0m\u001b[1;33m\u001b[0m\u001b[1;33m\u001b[0m\u001b[0m\n\u001b[0;32m    624\u001b[0m             \u001b[1;32mtry\u001b[0m\u001b[1;33m:\u001b[0m\u001b[1;33m\u001b[0m\u001b[1;33m\u001b[0m\u001b[0m\n\u001b[1;32m--> 625\u001b[1;33m                 \u001b[0mvalues\u001b[0m \u001b[1;33m=\u001b[0m \u001b[0mastype_nansafe\u001b[0m\u001b[1;33m(\u001b[0m\u001b[0mvals1d\u001b[0m\u001b[1;33m,\u001b[0m \u001b[0mdtype\u001b[0m\u001b[1;33m,\u001b[0m \u001b[0mcopy\u001b[0m\u001b[1;33m=\u001b[0m\u001b[1;32mTrue\u001b[0m\u001b[1;33m)\u001b[0m\u001b[1;33m\u001b[0m\u001b[1;33m\u001b[0m\u001b[0m\n\u001b[0m\u001b[0;32m    626\u001b[0m             \u001b[1;32mexcept\u001b[0m \u001b[1;33m(\u001b[0m\u001b[0mValueError\u001b[0m\u001b[1;33m,\u001b[0m \u001b[0mTypeError\u001b[0m\u001b[1;33m)\u001b[0m\u001b[1;33m:\u001b[0m\u001b[1;33m\u001b[0m\u001b[1;33m\u001b[0m\u001b[0m\n\u001b[0;32m    627\u001b[0m                 \u001b[1;31m# e.g. astype_nansafe can fail on object-dtype of strings\u001b[0m\u001b[1;33m\u001b[0m\u001b[1;33m\u001b[0m\u001b[1;33m\u001b[0m\u001b[0m\n",
      "\u001b[1;32m~\\miniconda3\\lib\\site-packages\\pandas\\core\\dtypes\\cast.py\u001b[0m in \u001b[0;36mastype_nansafe\u001b[1;34m(arr, dtype, copy, skipna)\u001b[0m\n\u001b[0;32m    872\u001b[0m         \u001b[1;31m# work around NumPy brokenness, #1987\u001b[0m\u001b[1;33m\u001b[0m\u001b[1;33m\u001b[0m\u001b[1;33m\u001b[0m\u001b[0m\n\u001b[0;32m    873\u001b[0m         \u001b[1;32mif\u001b[0m \u001b[0mnp\u001b[0m\u001b[1;33m.\u001b[0m\u001b[0missubdtype\u001b[0m\u001b[1;33m(\u001b[0m\u001b[0mdtype\u001b[0m\u001b[1;33m.\u001b[0m\u001b[0mtype\u001b[0m\u001b[1;33m,\u001b[0m \u001b[0mnp\u001b[0m\u001b[1;33m.\u001b[0m\u001b[0minteger\u001b[0m\u001b[1;33m)\u001b[0m\u001b[1;33m:\u001b[0m\u001b[1;33m\u001b[0m\u001b[1;33m\u001b[0m\u001b[0m\n\u001b[1;32m--> 874\u001b[1;33m             \u001b[1;32mreturn\u001b[0m \u001b[0mlib\u001b[0m\u001b[1;33m.\u001b[0m\u001b[0mastype_intsafe\u001b[0m\u001b[1;33m(\u001b[0m\u001b[0marr\u001b[0m\u001b[1;33m.\u001b[0m\u001b[0mravel\u001b[0m\u001b[1;33m(\u001b[0m\u001b[1;33m)\u001b[0m\u001b[1;33m,\u001b[0m \u001b[0mdtype\u001b[0m\u001b[1;33m)\u001b[0m\u001b[1;33m.\u001b[0m\u001b[0mreshape\u001b[0m\u001b[1;33m(\u001b[0m\u001b[0marr\u001b[0m\u001b[1;33m.\u001b[0m\u001b[0mshape\u001b[0m\u001b[1;33m)\u001b[0m\u001b[1;33m\u001b[0m\u001b[1;33m\u001b[0m\u001b[0m\n\u001b[0m\u001b[0;32m    875\u001b[0m \u001b[1;33m\u001b[0m\u001b[0m\n\u001b[0;32m    876\u001b[0m         \u001b[1;31m# if we have a datetime/timedelta array of objects\u001b[0m\u001b[1;33m\u001b[0m\u001b[1;33m\u001b[0m\u001b[1;33m\u001b[0m\u001b[0m\n",
      "\u001b[1;32mpandas\\_libs\\lib.pyx\u001b[0m in \u001b[0;36mpandas._libs.lib.astype_intsafe\u001b[1;34m()\u001b[0m\n",
      "\u001b[1;31mValueError\u001b[0m: invalid literal for int() with base 10: ''"
     ]
    }
   ],
   "source": [
    "df_meta[\"imdbId\"] = df_meta[\"imdb_id\"].str.slice(start=3).astype(np.int)"
   ]
  },
  {
   "cell_type": "code",
   "execution_count": 76,
   "metadata": {},
   "outputs": [
    {
     "data": {
      "text/html": [
       "<div>\n",
       "<style scoped>\n",
       "    .dataframe tbody tr th:only-of-type {\n",
       "        vertical-align: middle;\n",
       "    }\n",
       "\n",
       "    .dataframe tbody tr th {\n",
       "        vertical-align: top;\n",
       "    }\n",
       "\n",
       "    .dataframe thead th {\n",
       "        text-align: right;\n",
       "    }\n",
       "</style>\n",
       "<table border=\"1\" class=\"dataframe\">\n",
       "  <thead>\n",
       "    <tr style=\"text-align: right;\">\n",
       "      <th></th>\n",
       "      <th>adult</th>\n",
       "      <th>belongs_to_collection</th>\n",
       "      <th>budget</th>\n",
       "      <th>genres</th>\n",
       "      <th>homepage</th>\n",
       "      <th>id</th>\n",
       "      <th>imdb_id</th>\n",
       "      <th>original_language</th>\n",
       "      <th>original_title</th>\n",
       "      <th>overview</th>\n",
       "      <th>...</th>\n",
       "      <th>revenue</th>\n",
       "      <th>runtime</th>\n",
       "      <th>spoken_languages</th>\n",
       "      <th>status</th>\n",
       "      <th>tagline</th>\n",
       "      <th>title</th>\n",
       "      <th>video</th>\n",
       "      <th>vote_average</th>\n",
       "      <th>vote_count</th>\n",
       "      <th>imdbId</th>\n",
       "    </tr>\n",
       "  </thead>\n",
       "  <tbody>\n",
       "  </tbody>\n",
       "</table>\n",
       "<p>0 rows × 25 columns</p>\n",
       "</div>"
      ],
      "text/plain": [
       "Empty DataFrame\n",
       "Columns: [adult, belongs_to_collection, budget, genres, homepage, id, imdb_id, original_language, original_title, overview, popularity, poster_path, production_companies, production_countries, release_date, revenue, runtime, spoken_languages, status, tagline, title, video, vote_average, vote_count, imdbId]\n",
       "Index: []\n",
       "\n",
       "[0 rows x 25 columns]"
      ]
     },
     "execution_count": 76,
     "metadata": {},
     "output_type": "execute_result"
    }
   ],
   "source": [
    "df_meta"
   ]
  },
  {
   "cell_type": "code",
   "execution_count": 74,
   "metadata": {},
   "outputs": [
    {
     "data": {
      "text/plain": [
       "Series([], Name: imdbId, dtype: int32)"
      ]
     },
     "execution_count": 74,
     "metadata": {},
     "output_type": "execute_result"
    }
   ],
   "source": [
    "df_meta[\"imdbId\"]"
   ]
  },
  {
   "cell_type": "code",
   "execution_count": 58,
   "metadata": {},
   "outputs": [
    {
     "data": {
      "text/plain": [
       "Index(['movieId', 'imdbId', 'tmdbId'], dtype='object')"
      ]
     },
     "execution_count": 58,
     "metadata": {},
     "output_type": "execute_result"
    }
   ],
   "source": [
    "df_link.columns"
   ]
  },
  {
   "cell_type": "code",
   "execution_count": 59,
   "metadata": {},
   "outputs": [
    {
     "data": {
      "text/html": [
       "<div>\n",
       "<style scoped>\n",
       "    .dataframe tbody tr th:only-of-type {\n",
       "        vertical-align: middle;\n",
       "    }\n",
       "\n",
       "    .dataframe tbody tr th {\n",
       "        vertical-align: top;\n",
       "    }\n",
       "\n",
       "    .dataframe thead th {\n",
       "        text-align: right;\n",
       "    }\n",
       "</style>\n",
       "<table border=\"1\" class=\"dataframe\">\n",
       "  <thead>\n",
       "    <tr style=\"text-align: right;\">\n",
       "      <th></th>\n",
       "      <th>movieId</th>\n",
       "      <th>imdbId</th>\n",
       "      <th>tmdbId</th>\n",
       "    </tr>\n",
       "  </thead>\n",
       "  <tbody>\n",
       "    <tr>\n",
       "      <th>0</th>\n",
       "      <td>1</td>\n",
       "      <td>114709</td>\n",
       "      <td>862.0</td>\n",
       "    </tr>\n",
       "  </tbody>\n",
       "</table>\n",
       "</div>"
      ],
      "text/plain": [
       "   movieId  imdbId  tmdbId\n",
       "0        1  114709   862.0"
      ]
     },
     "execution_count": 59,
     "metadata": {},
     "output_type": "execute_result"
    }
   ],
   "source": [
    "df_link.loc[df_link[\"imdbId\"] == 114709, :]"
   ]
  },
  {
   "cell_type": "code",
   "execution_count": 61,
   "metadata": {},
   "outputs": [
    {
     "data": {
      "text/html": [
       "<div>\n",
       "<style scoped>\n",
       "    .dataframe tbody tr th:only-of-type {\n",
       "        vertical-align: middle;\n",
       "    }\n",
       "\n",
       "    .dataframe tbody tr th {\n",
       "        vertical-align: top;\n",
       "    }\n",
       "\n",
       "    .dataframe thead th {\n",
       "        text-align: right;\n",
       "    }\n",
       "</style>\n",
       "<table border=\"1\" class=\"dataframe\">\n",
       "  <thead>\n",
       "    <tr style=\"text-align: right;\">\n",
       "      <th></th>\n",
       "      <th>userId</th>\n",
       "      <th>movieId</th>\n",
       "      <th>rating</th>\n",
       "      <th>timestamp</th>\n",
       "    </tr>\n",
       "  </thead>\n",
       "  <tbody>\n",
       "    <tr>\n",
       "      <th>0</th>\n",
       "      <td>1</td>\n",
       "      <td>31</td>\n",
       "      <td>2.5</td>\n",
       "      <td>1260759144</td>\n",
       "    </tr>\n",
       "    <tr>\n",
       "      <th>1</th>\n",
       "      <td>1</td>\n",
       "      <td>1029</td>\n",
       "      <td>3.0</td>\n",
       "      <td>1260759179</td>\n",
       "    </tr>\n",
       "    <tr>\n",
       "      <th>2</th>\n",
       "      <td>1</td>\n",
       "      <td>1061</td>\n",
       "      <td>3.0</td>\n",
       "      <td>1260759182</td>\n",
       "    </tr>\n",
       "    <tr>\n",
       "      <th>3</th>\n",
       "      <td>1</td>\n",
       "      <td>1129</td>\n",
       "      <td>2.0</td>\n",
       "      <td>1260759185</td>\n",
       "    </tr>\n",
       "    <tr>\n",
       "      <th>4</th>\n",
       "      <td>1</td>\n",
       "      <td>1172</td>\n",
       "      <td>4.0</td>\n",
       "      <td>1260759205</td>\n",
       "    </tr>\n",
       "  </tbody>\n",
       "</table>\n",
       "</div>"
      ],
      "text/plain": [
       "   userId  movieId  rating   timestamp\n",
       "0       1       31     2.5  1260759144\n",
       "1       1     1029     3.0  1260759179\n",
       "2       1     1061     3.0  1260759182\n",
       "3       1     1129     2.0  1260759185\n",
       "4       1     1172     4.0  1260759205"
      ]
     },
     "execution_count": 61,
     "metadata": {},
     "output_type": "execute_result"
    }
   ],
   "source": []
  },
  {
   "cell_type": "code",
   "execution_count": 60,
   "metadata": {
    "scrolled": true
   },
   "outputs": [
    {
     "data": {
      "text/html": [
       "<div>\n",
       "<style scoped>\n",
       "    .dataframe tbody tr th:only-of-type {\n",
       "        vertical-align: middle;\n",
       "    }\n",
       "\n",
       "    .dataframe tbody tr th {\n",
       "        vertical-align: top;\n",
       "    }\n",
       "\n",
       "    .dataframe thead th {\n",
       "        text-align: right;\n",
       "    }\n",
       "</style>\n",
       "<table border=\"1\" class=\"dataframe\">\n",
       "  <thead>\n",
       "    <tr style=\"text-align: right;\">\n",
       "      <th></th>\n",
       "      <th>movieId</th>\n",
       "      <th>imdbId</th>\n",
       "      <th>tmdbId</th>\n",
       "    </tr>\n",
       "  </thead>\n",
       "  <tbody>\n",
       "    <tr>\n",
       "      <th>30</th>\n",
       "      <td>31</td>\n",
       "      <td>112792</td>\n",
       "      <td>9909.0</td>\n",
       "    </tr>\n",
       "  </tbody>\n",
       "</table>\n",
       "</div>"
      ],
      "text/plain": [
       "    movieId  imdbId  tmdbId\n",
       "30       31  112792  9909.0"
      ]
     },
     "execution_count": 60,
     "metadata": {},
     "output_type": "execute_result"
    }
   ],
   "source": [
    "df_link.loc[df_link[\"movieId\"] == 31, :]"
   ]
  },
  {
   "cell_type": "markdown",
   "metadata": {},
   "source": [
    "---"
   ]
  },
  {
   "cell_type": "markdown",
   "metadata": {},
   "source": [
    "## production_companies 전처리 버리기 .."
   ]
  },
  {
   "cell_type": "code",
   "execution_count": 371,
   "metadata": {},
   "outputs": [],
   "source": [
    "def search_between_two(a, b, text):\n",
    "    return re.findall(re.escape(a) + \"(.*?)\" + re.escape(b), text)\n",
    "\n",
    "def change_string(x):\n",
    "    matched = search_between_two(r'\"\"', r'\"\"', x)\n",
    "    if matched:\n",
    "        try:\n",
    "            all_errors = defaultdict(list)\n",
    "            for ms in matched:\n",
    "                all_errors[ms].extend([i for i, s in enumerate(ms) if s == \"'\"])\n",
    "            indices = [0]\n",
    "            for ms, s_idxes in all_errors.items():\n",
    "                indices.extend([x.index(ms) + s_idx for s_idx in s_idxes])\n",
    "            indices += [len(x)]\n",
    "            temp = []\n",
    "            for i, j in zip(indices[:-1], indices[1:]):\n",
    "                temp.append(x[i:j].lstrip(re.escape(\"'\")))\n",
    "            return \" \".join(temp)\n",
    "        except ValueError: # substring not found\n",
    "            return x.replace('\"\"', '')\n",
    "    else:\n",
    "        return x\n",
    "# RULE_STR = r\"\\\"\\\".*([\\w]\\'[\\w]+)|([\\w]\\'[\\s]+[\\w]+).*\\\"\\\"\"\n",
    "# find_parsing_error = lambda x: len(re.findall(r\"([\\w]\\'[\\w]+)|([\\w]\\'[\\s]+[\\w]+)\", x)) > 0\n",
    "# def change_string(x):\n",
    "#     matched = []\n",
    "#     for s in re.findall(r\"([\\w]\\'[\\w]+)|([\\w]\\'[\\s]+[\\w]+)\", x):\n",
    "#         matched.extend(ele for ele in s if ele)\n",
    "#     indices = [0] + [x.index(s)+1 for s in matched] + [len(x)]\n",
    "#     temp = []\n",
    "#     for i, j in zip(indices[:-1], indices[1:]):\n",
    "#         temp.append(x[i:j].lstrip(\"'\"))\n",
    "#     return \"_\".join(temp)"
   ]
  },
  {
   "cell_type": "code",
   "execution_count": 372,
   "metadata": {},
   "outputs": [],
   "source": [
    "df_meta.loc[:, \"production_companies\"] = df_meta.loc[:, \"production_companies\"].apply(change_string).values\n",
    "df_meta.loc[:, \"production_companies\"] = df_meta.loc[:, \"production_companies\"]\\\n",
    "    .str.replace('\"\"Perspektywa', 'Perspektywa').str.replace('\"\"', \"\\'\").str.replace('\"', '')"
   ]
  },
  {
   "cell_type": "code",
   "execution_count": 299,
   "metadata": {},
   "outputs": [],
   "source": [
    "if matched:\n",
    "    indices = [0] + [x.index(s)+s.index(\"'\") for s in matched] + [len(x)]\n",
    "    temp = []\n",
    "    for i, j in zip(indices[:-1], indices[1:]):\n",
    "        temp.append(x[i:j].lstrip(re.escape(\"'\")))\n",
    "    print(\" \".join(temp))"
   ]
  },
  {
   "cell_type": "code",
   "execution_count": 274,
   "metadata": {},
   "outputs": [],
   "source": [
    "x = df_meta.loc[idx, \"production_companies\"].iloc[7]"
   ]
  },
  {
   "cell_type": "code",
   "execution_count": 184,
   "metadata": {},
   "outputs": [
    {
     "data": {
      "text/plain": [
       "'\"[{\\'name\\': \\'Stéphan Films\\', \\'id\\': 2359}, {\\'name\\': \"\"Centre du Cinéma et de l\\'Audiovisuel de la Fédération Wallonie-Bruxelles\"\", \\'id\\': 11796}, {\\'name\\': \"\"Sol\\'oeil Films\"\", \\'id\\': 43860}, {\\'name\\': \\'Lamy Films\\', \\'id\\': 66451}, {\\'name\\': \\'Ministère des Affaires étrangères et du Développement International\\', \\'id\\': 72598}]\"'"
      ]
     },
     "execution_count": 184,
     "metadata": {},
     "output_type": "execute_result"
    }
   ],
   "source": [
    "x = df_meta.loc[idx, \"production_companies\"].iloc[8]\n",
    "x"
   ]
  },
  {
   "cell_type": "code",
   "execution_count": 348,
   "metadata": {},
   "outputs": [],
   "source": [
    "idx = df_meta[\"production_companies\"].str.find(\"Ministerstvo kultury Rossiyskoy Federatsii\") > 0 "
   ]
  },
  {
   "cell_type": "code",
   "execution_count": 350,
   "metadata": {},
   "outputs": [
    {
     "data": {
      "text/plain": [
       "'\"[{\\'name\\': \\'Channel One Russia\\', \\'id\\': 1039}, {\\'name\\': \\'KoBura Film\\', \\'id\\': 5283}, {\\'name\\': \\'Ministerstvo kultury Rossiyskoy Federatsii\\', \\'id\\': 25125}, {\\'name\\': \"\"Studiya dokumental\\'nykh fil\\'mov Sankt-Peterburga\"\", \\'id\\': 25126}, {\\'name\\': \\'Kinokompaniya Non-Stop Prodakshn\\', \\'id\\': 41762}]\"'"
      ]
     },
     "execution_count": 350,
     "metadata": {},
     "output_type": "execute_result"
    }
   ],
   "source": [
    "x = df_meta.loc[idx, \"production_companies\"].iloc[0]\n",
    "x"
   ]
  },
  {
   "cell_type": "code",
   "execution_count": 365,
   "metadata": {},
   "outputs": [],
   "source": [
    "x = '\"[{\\'name\\': \\'Stéphan Films\\', \\'id\\': 2359}, {\\'name\\': \"\"Centre du Cinéma et de l\\'Audiovisuel de la Fédération Wallonie-Bruxelles\"\", \\'id\\': 11796}, {\\'name\\': \"\"Sol\\'oeil Films\"\", \\'id\\': 43860}, {\\'name\\': \\'Lamy Films\\', \\'id\\': 66451}, {\\'name\\': \\'Ministère des Affaires étrangères et du Développement International\\', \\'id\\': 72598}]\"'"
   ]
  },
  {
   "cell_type": "code",
   "execution_count": 366,
   "metadata": {},
   "outputs": [
    {
     "data": {
      "text/plain": [
       "[\"Centre du Cinéma et de l'Audiovisuel de la Fédération Wallonie-Bruxelles\",\n",
       " \"Sol'oeil Films\"]"
      ]
     },
     "execution_count": 366,
     "metadata": {},
     "output_type": "execute_result"
    }
   ],
   "source": [
    "search_between_two(r'\"\"', r'\"\"', x)"
   ]
  },
  {
   "cell_type": "code",
   "execution_count": 367,
   "metadata": {},
   "outputs": [
    {
     "data": {
      "text/plain": [
       "'\"[{\\'name\\': \\'Stéphan Films\\', \\'id\\': 2359}, {\\'name\\': \"\"Centre du Cinéma et de l Audiovisuel de la Fédération Wallonie-Bruxelles\"\", \\'id\\': 11796}, {\\'name\\': \"\"Sol oeil Films\"\", \\'id\\': 43860}, {\\'name\\': \\'Lamy Films\\', \\'id\\': 66451}, {\\'name\\': \\'Ministère des Affaires étrangères et du Développement International\\', \\'id\\': 72598}]\"'"
      ]
     },
     "execution_count": 367,
     "metadata": {},
     "output_type": "execute_result"
    }
   ],
   "source": [
    "change_string(x)"
   ]
  },
  {
   "cell_type": "code",
   "execution_count": 368,
   "metadata": {},
   "outputs": [],
   "source": [
    "matched = search_between_two(r'\"\"', r'\"\"', x)\n",
    "if matched:\n",
    "    all_errors = defaultdict(list)\n",
    "    for ms in matched:\n",
    "        all_errors[ms].extend([i for i, s in enumerate(ms) if s == \"'\"])\n",
    "    indices = [0]\n",
    "    for ms, s_idxes in all_errors.items():\n",
    "        indices.extend([x.index(ms) + s_idx for s_idx in s_idxes])\n",
    "    indices += [len(x)]\n",
    "    temp = []\n",
    "    for i, j in zip(indices[:-1], indices[1:]):\n",
    "        temp.append(x[i:j].lstrip(re.escape(\"'\")))"
   ]
  },
  {
   "cell_type": "code",
   "execution_count": 370,
   "metadata": {},
   "outputs": [
    {
     "data": {
      "text/plain": [
       "'\"[{\\'name\\': \\'Stéphan Films\\', \\'id\\': 2359}, {\\'name\\': \"\"Centre du Cinéma et de l_Audiovisuel de la Fédération Wallonie-Bruxelles\"\", \\'id\\': 11796}, {\\'name\\': \"\"Sol_oeil Films\"\", \\'id\\': 43860}, {\\'name\\': \\'Lamy Films\\', \\'id\\': 66451}, {\\'name\\': \\'Ministère des Affaires étrangères et du Développement International\\', \\'id\\': 72598}]\"'"
      ]
     },
     "execution_count": 370,
     "metadata": {},
     "output_type": "execute_result"
    }
   ],
   "source": [
    "\"_\".join(temp)"
   ]
  },
  {
   "cell_type": "code",
   "execution_count": 360,
   "metadata": {},
   "outputs": [
    {
     "data": {
      "text/plain": [
       "[18, 27]"
      ]
     },
     "execution_count": 360,
     "metadata": {},
     "output_type": "execute_result"
    }
   ],
   "source": [
    "all_errors"
   ]
  },
  {
   "cell_type": "code",
   "execution_count": 358,
   "metadata": {},
   "outputs": [
    {
     "data": {
      "text/plain": [
       "[\"Studiya dokumental'nykh fil'mov Sankt-Peterburga\"]"
      ]
     },
     "execution_count": 358,
     "metadata": {},
     "output_type": "execute_result"
    }
   ],
   "source": [
    "[for s in matched[0]]"
   ]
  },
  {
   "cell_type": "code",
   "execution_count": 357,
   "metadata": {},
   "outputs": [
    {
     "data": {
      "text/plain": [
       "'nykh fil\\'mov Sankt-Peterburga\"\", \\'id\\': 25126}, {\\'name\\': \\'Kinokompaniya Non-Stop Prodakshn\\', \\'id\\': 41762}]\"'"
      ]
     },
     "execution_count": 357,
     "metadata": {},
     "output_type": "execute_result"
    }
   ],
   "source": [
    "temp[1]"
   ]
  },
  {
   "cell_type": "code",
   "execution_count": 306,
   "metadata": {},
   "outputs": [],
   "source": [
    "f = lambda p_str: \"|\".join([tuple(dict(x).values())[0] for x in eval(p_str)])"
   ]
  },
  {
   "cell_type": "code",
   "execution_count": 93,
   "metadata": {
    "scrolled": true
   },
   "outputs": [
    {
     "data": {
      "text/plain": [
       "\"[{'name': 'Stéphan Films', 'id': 2359}, {'name': 'Centre du Cinéma et de l [{'name': 'Stéphan Films', 'id': 2359}, {'name': 'Centre du Cinéma et de l_Audiovisuel de la Fédération Wallonie-Bruxelles', 'id': 11796}, {'name': 'Sol oeil Films', 'id': 43860}, {'name': 'Lamy Films', 'id': 66451}, {'name': 'Ministère des Affaires étrangères et du Développement International', 'id': 72598}]\""
      ]
     },
     "execution_count": 93,
     "metadata": {},
     "output_type": "execute_result"
    }
   ],
   "source": [
    "x = change_string(x)\n",
    "x"
   ]
  },
  {
   "cell_type": "code",
   "execution_count": 373,
   "metadata": {},
   "outputs": [
    {
     "ename": "SyntaxError",
     "evalue": "invalid syntax (<string>, line 1)",
     "output_type": "error",
     "traceback": [
      "Traceback \u001b[1;36m(most recent call last)\u001b[0m:\n",
      "  File \u001b[0;32m\"C:\\Users\\simon\\miniconda3\\lib\\site-packages\\IPython\\core\\interactiveshell.py\"\u001b[0m, line \u001b[0;32m3331\u001b[0m, in \u001b[0;35mrun_code\u001b[0m\n    exec(code_obj, self.user_global_ns, self.user_ns)\n",
      "  File \u001b[0;32m\"<ipython-input-373-8f5074fa09f5>\"\u001b[0m, line \u001b[0;32m1\u001b[0m, in \u001b[0;35m<module>\u001b[0m\n    df_meta[\"production_companies\"].apply(lambda p_str: \"|\".join([tuple(dict(x).values())[0] for x in eval(p_str)]))\n",
      "  File \u001b[0;32m\"C:\\Users\\simon\\miniconda3\\lib\\site-packages\\pandas\\core\\series.py\"\u001b[0m, line \u001b[0;32m3848\u001b[0m, in \u001b[0;35mapply\u001b[0m\n    mapped = lib.map_infer(values, f, convert=convert_dtype)\n",
      "  File \u001b[0;32m\"pandas\\_libs\\lib.pyx\"\u001b[0m, line \u001b[0;32m2329\u001b[0m, in \u001b[0;35mpandas._libs.lib.map_infer\u001b[0m\n",
      "\u001b[1;36m  File \u001b[1;32m\"<ipython-input-373-8f5074fa09f5>\"\u001b[1;36m, line \u001b[1;32m1\u001b[1;36m, in \u001b[1;35m<lambda>\u001b[1;36m\u001b[0m\n\u001b[1;33m    df_meta[\"production_companies\"].apply(lambda p_str: \"|\".join([tuple(dict(x).values())[0] for x in eval(p_str)]))\u001b[0m\n",
      "\u001b[1;36m  File \u001b[1;32m\"<string>\"\u001b[1;36m, line \u001b[1;32m1\u001b[0m\n\u001b[1;33m    [{'name': 'Canal+', 'id': 5358}, {'name': 'Zespól Filmowy 'Tor'', 'id': 7984}, {'name': 'Norsk Film', 'id': 12984}, {'name': 'Sidéral Productions', 'id': 63751}]\u001b[0m\n\u001b[1;37m                                                                 ^\u001b[0m\n\u001b[1;31mSyntaxError\u001b[0m\u001b[1;31m:\u001b[0m invalid syntax\n"
     ]
    }
   ],
   "source": [
    "df_meta[\"production_companies\"].apply(lambda p_str: \"|\".join([tuple(dict(x).values())[0] for x in eval(p_str)]))"
   ]
  },
  {
   "cell_type": "markdown",
   "metadata": {},
   "source": [
    "---"
   ]
  }
 ],
 "metadata": {
  "kernelspec": {
   "display_name": "Python 3",
   "language": "python",
   "name": "python3"
  },
  "language_info": {
   "codemirror_mode": {
    "name": "ipython",
    "version": 3
   },
   "file_extension": ".py",
   "mimetype": "text/x-python",
   "name": "python",
   "nbconvert_exporter": "python",
   "pygments_lexer": "ipython3",
   "version": "3.7.6"
  }
 },
 "nbformat": 4,
 "nbformat_minor": 4
}
